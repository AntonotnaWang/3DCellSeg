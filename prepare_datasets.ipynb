{
 "cells": [
  {
   "cell_type": "code",
   "execution_count": 1,
   "id": "b65be37b",
   "metadata": {},
   "outputs": [],
   "source": [
    "import numpy as np\n",
    "import os\n",
    "from func.ultis import save_obj, load_obj"
   ]
  },
  {
   "cell_type": "markdown",
   "id": "a0926776",
   "metadata": {},
   "source": [
    "### HMS"
   ]
  },
  {
   "cell_type": "code",
   "execution_count": 2,
   "id": "9216b22a",
   "metadata": {},
   "outputs": [],
   "source": [
    "# please change if needed\n",
    "source_path_raw_img = \"/data/CellSeg_dataset/HMS/raw\"\n",
    "source_path_seg_img = \"/data/CellSeg_dataset/HMS/segmentation\"\n",
    "processed_path_raw_img = \"/data/CellSeg_dataset/HMS_processed/raw\"\n",
    "processed_path_seg_img = \"/data/CellSeg_dataset/HMS_processed/segmentation\""
   ]
  },
  {
   "cell_type": "code",
   "execution_count": 3,
   "id": "2eaf35b6",
   "metadata": {},
   "outputs": [],
   "source": [
    "# # step 1\n",
    "# run_py_script = \"python prepare_dataset/prepare_HMS_dataset.py \"+\\\n",
    "# \"--raw_img_file_path \"+source_path_raw_img+\" \"+\\\n",
    "# \"--seg_img_file_path \"+source_path_seg_img+\" \"+\\\n",
    "# \"--processed_raw_img_output_file_path \"+processed_path_raw_img+\" \"+\\\n",
    "# \"--processed_seg_img_output_file_path \"+processed_path_seg_img\n",
    "# print(\"run \"+run_py_script)\n",
    "# os.system(run_py_script)"
   ]
  },
  {
   "cell_type": "code",
   "execution_count": 4,
   "id": "41094921",
   "metadata": {},
   "outputs": [
    {
     "name": "stdout",
     "output_type": "stream",
     "text": [
      "run python prepare_dataset/get_the_dataset_info_of_HMS.py --processed_raw_img_file_path /data/CellSeg_dataset/HMS_processed/raw --processed_seg_img_file_path /data/CellSeg_dataset/HMS_processed/segmentation\n",
      "['/home/v-andongwang/Projects/CellSeg_github/prepare_dataset', '/home/v-andongwang/anaconda3/envs/clip/lib/python38.zip', '/home/v-andongwang/anaconda3/envs/clip/lib/python3.8', '/home/v-andongwang/anaconda3/envs/clip/lib/python3.8/lib-dynload', '/home/v-andongwang/anaconda3/envs/clip/lib/python3.8/site-packages', '/home/v-andongwang/anaconda3/envs/clip/lib/python3.8/site-packages/wheel-0.37.1-py3.8.egg', '/home/v-andongwang/Projects/Learning/Dassl.pytorch', '/home/v-andongwang/anaconda3/envs/clip/lib/python3.8/site-packages/locket-0.2.1-py3.8.egg', '/home/v-andongwang/Projects/CellSeg_github']\n",
      "test: ['120', '135', '65', '90']\n",
      "train: ['210' '185' '130' '165' '50' '170' '70' '125' '145' '105' '195' '115'\n",
      " '60' '200' '205' '180' '175' '75' '140' '85' '215' '225' '150' '155'\n",
      " '160' '80' '95' '110' '220' '190' '55' '100']\n",
      "{'train': {'210': {'raw': '/data/CellSeg_dataset/HMS_processed/raw/210.npy', 'background': '/data/CellSeg_dataset/HMS_processed/segmentation/210/210_background_3d_mask.npy', 'boundary': '/data/CellSeg_dataset/HMS_processed/segmentation/210/210_boundary_3d_mask.npy', 'foreground': '/data/CellSeg_dataset/HMS_processed/segmentation/210/210_foreground_3d_mask.npy'}, '185': {'raw': '/data/CellSeg_dataset/HMS_processed/raw/185.npy', 'background': '/data/CellSeg_dataset/HMS_processed/segmentation/185/185_background_3d_mask.npy', 'boundary': '/data/CellSeg_dataset/HMS_processed/segmentation/185/185_boundary_3d_mask.npy', 'foreground': '/data/CellSeg_dataset/HMS_processed/segmentation/185/185_foreground_3d_mask.npy'}, '130': {'raw': '/data/CellSeg_dataset/HMS_processed/raw/130.npy', 'background': '/data/CellSeg_dataset/HMS_processed/segmentation/130/130_background_3d_mask.npy', 'boundary': '/data/CellSeg_dataset/HMS_processed/segmentation/130/130_boundary_3d_mask.npy', 'foreground': '/data/CellSeg_dataset/HMS_processed/segmentation/130/130_foreground_3d_mask.npy'}, '165': {'raw': '/data/CellSeg_dataset/HMS_processed/raw/165.npy', 'background': '/data/CellSeg_dataset/HMS_processed/segmentation/165/165_background_3d_mask.npy', 'boundary': '/data/CellSeg_dataset/HMS_processed/segmentation/165/165_boundary_3d_mask.npy', 'foreground': '/data/CellSeg_dataset/HMS_processed/segmentation/165/165_foreground_3d_mask.npy'}, '50': {'raw': '/data/CellSeg_dataset/HMS_processed/raw/50.npy', 'background': '/data/CellSeg_dataset/HMS_processed/segmentation/50/50_background_3d_mask.npy', 'boundary': '/data/CellSeg_dataset/HMS_processed/segmentation/50/50_boundary_3d_mask.npy', 'foreground': '/data/CellSeg_dataset/HMS_processed/segmentation/50/50_foreground_3d_mask.npy'}, '170': {'raw': '/data/CellSeg_dataset/HMS_processed/raw/170.npy', 'background': '/data/CellSeg_dataset/HMS_processed/segmentation/170/170_background_3d_mask.npy', 'boundary': '/data/CellSeg_dataset/HMS_processed/segmentation/170/170_boundary_3d_mask.npy', 'foreground': '/data/CellSeg_dataset/HMS_processed/segmentation/170/170_foreground_3d_mask.npy'}, '70': {'raw': '/data/CellSeg_dataset/HMS_processed/raw/70.npy', 'background': '/data/CellSeg_dataset/HMS_processed/segmentation/70/70_background_3d_mask.npy', 'boundary': '/data/CellSeg_dataset/HMS_processed/segmentation/70/70_boundary_3d_mask.npy', 'foreground': '/data/CellSeg_dataset/HMS_processed/segmentation/70/70_foreground_3d_mask.npy'}, '125': {'raw': '/data/CellSeg_dataset/HMS_processed/raw/125.npy', 'background': '/data/CellSeg_dataset/HMS_processed/segmentation/125/125_background_3d_mask.npy', 'boundary': '/data/CellSeg_dataset/HMS_processed/segmentation/125/125_boundary_3d_mask.npy', 'foreground': '/data/CellSeg_dataset/HMS_processed/segmentation/125/125_foreground_3d_mask.npy'}, '145': {'raw': '/data/CellSeg_dataset/HMS_processed/raw/145.npy', 'background': '/data/CellSeg_dataset/HMS_processed/segmentation/145/145_background_3d_mask.npy', 'boundary': '/data/CellSeg_dataset/HMS_processed/segmentation/145/145_boundary_3d_mask.npy', 'foreground': '/data/CellSeg_dataset/HMS_processed/segmentation/145/145_foreground_3d_mask.npy'}, '105': {'raw': '/data/CellSeg_dataset/HMS_processed/raw/105.npy', 'background': '/data/CellSeg_dataset/HMS_processed/segmentation/105/105_background_3d_mask.npy', 'boundary': '/data/CellSeg_dataset/HMS_processed/segmentation/105/105_boundary_3d_mask.npy', 'foreground': '/data/CellSeg_dataset/HMS_processed/segmentation/105/105_foreground_3d_mask.npy'}, '195': {'raw': '/data/CellSeg_dataset/HMS_processed/raw/195.npy', 'background': '/data/CellSeg_dataset/HMS_processed/segmentation/195/195_background_3d_mask.npy', 'boundary': '/data/CellSeg_dataset/HMS_processed/segmentation/195/195_boundary_3d_mask.npy', 'foreground': '/data/CellSeg_dataset/HMS_processed/segmentation/195/195_foreground_3d_mask.npy'}, '115': {'raw': '/data/CellSeg_dataset/HMS_processed/raw/115.npy', 'background': '/data/CellSeg_dataset/HMS_processed/segmentation/115/115_background_3d_mask.npy', 'boundary': '/data/CellSeg_dataset/HMS_processed/segmentation/115/115_boundary_3d_mask.npy', 'foreground': '/data/CellSeg_dataset/HMS_processed/segmentation/115/115_foreground_3d_mask.npy'}, '60': {'raw': '/data/CellSeg_dataset/HMS_processed/raw/60.npy', 'background': '/data/CellSeg_dataset/HMS_processed/segmentation/60/60_background_3d_mask.npy', 'boundary': '/data/CellSeg_dataset/HMS_processed/segmentation/60/60_boundary_3d_mask.npy', 'foreground': '/data/CellSeg_dataset/HMS_processed/segmentation/60/60_foreground_3d_mask.npy'}, '200': {'raw': '/data/CellSeg_dataset/HMS_processed/raw/200.npy', 'background': '/data/CellSeg_dataset/HMS_processed/segmentation/200/200_background_3d_mask.npy', 'boundary': '/data/CellSeg_dataset/HMS_processed/segmentation/200/200_boundary_3d_mask.npy', 'foreground': '/data/CellSeg_dataset/HMS_processed/segmentation/200/200_foreground_3d_mask.npy'}, '205': {'raw': '/data/CellSeg_dataset/HMS_processed/raw/205.npy', 'background': '/data/CellSeg_dataset/HMS_processed/segmentation/205/205_background_3d_mask.npy', 'boundary': '/data/CellSeg_dataset/HMS_processed/segmentation/205/205_boundary_3d_mask.npy', 'foreground': '/data/CellSeg_dataset/HMS_processed/segmentation/205/205_foreground_3d_mask.npy'}, '180': {'raw': '/data/CellSeg_dataset/HMS_processed/raw/180.npy', 'background': '/data/CellSeg_dataset/HMS_processed/segmentation/180/180_background_3d_mask.npy', 'boundary': '/data/CellSeg_dataset/HMS_processed/segmentation/180/180_boundary_3d_mask.npy', 'foreground': '/data/CellSeg_dataset/HMS_processed/segmentation/180/180_foreground_3d_mask.npy'}, '175': {'raw': '/data/CellSeg_dataset/HMS_processed/raw/175.npy', 'background': '/data/CellSeg_dataset/HMS_processed/segmentation/175/175_background_3d_mask.npy', 'boundary': '/data/CellSeg_dataset/HMS_processed/segmentation/175/175_boundary_3d_mask.npy', 'foreground': '/data/CellSeg_dataset/HMS_processed/segmentation/175/175_foreground_3d_mask.npy'}, '75': {'raw': '/data/CellSeg_dataset/HMS_processed/raw/75.npy', 'background': '/data/CellSeg_dataset/HMS_processed/segmentation/75/75_background_3d_mask.npy', 'boundary': '/data/CellSeg_dataset/HMS_processed/segmentation/75/75_boundary_3d_mask.npy', 'foreground': '/data/CellSeg_dataset/HMS_processed/segmentation/75/75_foreground_3d_mask.npy'}, '140': {'raw': '/data/CellSeg_dataset/HMS_processed/raw/140.npy', 'background': '/data/CellSeg_dataset/HMS_processed/segmentation/140/140_background_3d_mask.npy', 'boundary': '/data/CellSeg_dataset/HMS_processed/segmentation/140/140_boundary_3d_mask.npy', 'foreground': '/data/CellSeg_dataset/HMS_processed/segmentation/140/140_foreground_3d_mask.npy'}, '85': {'raw': '/data/CellSeg_dataset/HMS_processed/raw/85.npy', 'background': '/data/CellSeg_dataset/HMS_processed/segmentation/85/85_background_3d_mask.npy', 'boundary': '/data/CellSeg_dataset/HMS_processed/segmentation/85/85_boundary_3d_mask.npy', 'foreground': '/data/CellSeg_dataset/HMS_processed/segmentation/85/85_foreground_3d_mask.npy'}, '215': {'raw': '/data/CellSeg_dataset/HMS_processed/raw/215.npy', 'background': '/data/CellSeg_dataset/HMS_processed/segmentation/215/215_background_3d_mask.npy', 'boundary': '/data/CellSeg_dataset/HMS_processed/segmentation/215/215_boundary_3d_mask.npy', 'foreground': '/data/CellSeg_dataset/HMS_processed/segmentation/215/215_foreground_3d_mask.npy'}, '225': {'raw': '/data/CellSeg_dataset/HMS_processed/raw/225.npy', 'background': '/data/CellSeg_dataset/HMS_processed/segmentation/225/225_background_3d_mask.npy', 'boundary': '/data/CellSeg_dataset/HMS_processed/segmentation/225/225_boundary_3d_mask.npy', 'foreground': '/data/CellSeg_dataset/HMS_processed/segmentation/225/225_foreground_3d_mask.npy'}, '150': {'raw': '/data/CellSeg_dataset/HMS_processed/raw/150.npy', 'background': '/data/CellSeg_dataset/HMS_processed/segmentation/150/150_background_3d_mask.npy', 'boundary': '/data/CellSeg_dataset/HMS_processed/segmentation/150/150_boundary_3d_mask.npy', 'foreground': '/data/CellSeg_dataset/HMS_processed/segmentation/150/150_foreground_3d_mask.npy'}, '155': {'raw': '/data/CellSeg_dataset/HMS_processed/raw/155.npy', 'background': '/data/CellSeg_dataset/HMS_processed/segmentation/155/155_background_3d_mask.npy', 'boundary': '/data/CellSeg_dataset/HMS_processed/segmentation/155/155_boundary_3d_mask.npy', 'foreground': '/data/CellSeg_dataset/HMS_processed/segmentation/155/155_foreground_3d_mask.npy'}, '160': {'raw': '/data/CellSeg_dataset/HMS_processed/raw/160.npy', 'background': '/data/CellSeg_dataset/HMS_processed/segmentation/160/160_background_3d_mask.npy', 'boundary': '/data/CellSeg_dataset/HMS_processed/segmentation/160/160_boundary_3d_mask.npy', 'foreground': '/data/CellSeg_dataset/HMS_processed/segmentation/160/160_foreground_3d_mask.npy'}, '80': {'raw': '/data/CellSeg_dataset/HMS_processed/raw/80.npy', 'background': '/data/CellSeg_dataset/HMS_processed/segmentation/80/80_background_3d_mask.npy', 'boundary': '/data/CellSeg_dataset/HMS_processed/segmentation/80/80_boundary_3d_mask.npy', 'foreground': '/data/CellSeg_dataset/HMS_processed/segmentation/80/80_foreground_3d_mask.npy'}, '95': {'raw': '/data/CellSeg_dataset/HMS_processed/raw/95.npy', 'background': '/data/CellSeg_dataset/HMS_processed/segmentation/95/95_background_3d_mask.npy', 'boundary': '/data/CellSeg_dataset/HMS_processed/segmentation/95/95_boundary_3d_mask.npy', 'foreground': '/data/CellSeg_dataset/HMS_processed/segmentation/95/95_foreground_3d_mask.npy'}, '110': {'raw': '/data/CellSeg_dataset/HMS_processed/raw/110.npy', 'background': '/data/CellSeg_dataset/HMS_processed/segmentation/110/110_background_3d_mask.npy', 'boundary': '/data/CellSeg_dataset/HMS_processed/segmentation/110/110_boundary_3d_mask.npy', 'foreground': '/data/CellSeg_dataset/HMS_processed/segmentation/110/110_foreground_3d_mask.npy'}, '220': {'raw': '/data/CellSeg_dataset/HMS_processed/raw/220.npy', 'background': '/data/CellSeg_dataset/HMS_processed/segmentation/220/220_background_3d_mask.npy', 'boundary': '/data/CellSeg_dataset/HMS_processed/segmentation/220/220_boundary_3d_mask.npy', 'foreground': '/data/CellSeg_dataset/HMS_processed/segmentation/220/220_foreground_3d_mask.npy'}, '190': {'raw': '/data/CellSeg_dataset/HMS_processed/raw/190.npy', 'background': '/data/CellSeg_dataset/HMS_processed/segmentation/190/190_background_3d_mask.npy', 'boundary': '/data/CellSeg_dataset/HMS_processed/segmentation/190/190_boundary_3d_mask.npy', 'foreground': '/data/CellSeg_dataset/HMS_processed/segmentation/190/190_foreground_3d_mask.npy'}, '55': {'raw': '/data/CellSeg_dataset/HMS_processed/raw/55.npy', 'background': '/data/CellSeg_dataset/HMS_processed/segmentation/55/55_background_3d_mask.npy', 'boundary': '/data/CellSeg_dataset/HMS_processed/segmentation/55/55_boundary_3d_mask.npy', 'foreground': '/data/CellSeg_dataset/HMS_processed/segmentation/55/55_foreground_3d_mask.npy'}, '100': {'raw': '/data/CellSeg_dataset/HMS_processed/raw/100.npy', 'background': '/data/CellSeg_dataset/HMS_processed/segmentation/100/100_background_3d_mask.npy', 'boundary': '/data/CellSeg_dataset/HMS_processed/segmentation/100/100_boundary_3d_mask.npy', 'foreground': '/data/CellSeg_dataset/HMS_processed/segmentation/100/100_foreground_3d_mask.npy'}}, 'test': {'90': {'raw': '/data/CellSeg_dataset/HMS_processed/raw/90.npy', 'background': '/data/CellSeg_dataset/HMS_processed/segmentation/90/90_background_3d_mask.npy', 'boundary': '/data/CellSeg_dataset/HMS_processed/segmentation/90/90_boundary_3d_mask.npy', 'foreground': '/data/CellSeg_dataset/HMS_processed/segmentation/90/90_foreground_3d_mask.npy', 'ins': '/data/CellSeg_dataset/HMS_processed/segmentation/90/90_ins.npy'}, '120': {'raw': '/data/CellSeg_dataset/HMS_processed/raw/120.npy', 'background': '/data/CellSeg_dataset/HMS_processed/segmentation/120/120_background_3d_mask.npy', 'boundary': '/data/CellSeg_dataset/HMS_processed/segmentation/120/120_boundary_3d_mask.npy', 'foreground': '/data/CellSeg_dataset/HMS_processed/segmentation/120/120_foreground_3d_mask.npy', 'ins': '/data/CellSeg_dataset/HMS_processed/segmentation/120/120_ins.npy'}, '135': {'raw': '/data/CellSeg_dataset/HMS_processed/raw/135.npy', 'background': '/data/CellSeg_dataset/HMS_processed/segmentation/135/135_background_3d_mask.npy', 'boundary': '/data/CellSeg_dataset/HMS_processed/segmentation/135/135_boundary_3d_mask.npy', 'foreground': '/data/CellSeg_dataset/HMS_processed/segmentation/135/135_foreground_3d_mask.npy', 'ins': '/data/CellSeg_dataset/HMS_processed/segmentation/135/135_ins.npy'}, '65': {'raw': '/data/CellSeg_dataset/HMS_processed/raw/65.npy', 'background': '/data/CellSeg_dataset/HMS_processed/segmentation/65/65_background_3d_mask.npy', 'boundary': '/data/CellSeg_dataset/HMS_processed/segmentation/65/65_boundary_3d_mask.npy', 'foreground': '/data/CellSeg_dataset/HMS_processed/segmentation/65/65_foreground_3d_mask.npy', 'ins': '/data/CellSeg_dataset/HMS_processed/segmentation/65/65_ins.npy'}}}\n"
     ]
    },
    {
     "data": {
      "text/plain": [
       "0"
      ]
     },
     "execution_count": 4,
     "metadata": {},
     "output_type": "execute_result"
    }
   ],
   "source": [
    "# step2\n",
    "run_py_script = \"python prepare_dataset/get_the_dataset_info_of_HMS.py \"+\\\n",
    "\"--processed_raw_img_file_path \"+processed_path_raw_img+\" \"+\\\n",
    "\"--processed_seg_img_file_path \"+processed_path_seg_img\n",
    "print(\"run \"+run_py_script)\n",
    "os.system(run_py_script)"
   ]
  },
  {
   "cell_type": "code",
   "execution_count": 5,
   "id": "5b09f9a9",
   "metadata": {},
   "outputs": [],
   "source": [
    "HMS_data_dict = load_obj(\"dataset_info/HMS_dataset_info\")"
   ]
  },
  {
   "cell_type": "code",
   "execution_count": 6,
   "id": "02cdd6bc",
   "metadata": {},
   "outputs": [
    {
     "data": {
      "text/plain": [
       "{'train': {'210': {'raw': '/data/CellSeg_dataset/HMS_processed/raw/210.npy',\n",
       "   'background': '/data/CellSeg_dataset/HMS_processed/segmentation/210/210_background_3d_mask.npy',\n",
       "   'boundary': '/data/CellSeg_dataset/HMS_processed/segmentation/210/210_boundary_3d_mask.npy',\n",
       "   'foreground': '/data/CellSeg_dataset/HMS_processed/segmentation/210/210_foreground_3d_mask.npy'},\n",
       "  '185': {'raw': '/data/CellSeg_dataset/HMS_processed/raw/185.npy',\n",
       "   'background': '/data/CellSeg_dataset/HMS_processed/segmentation/185/185_background_3d_mask.npy',\n",
       "   'boundary': '/data/CellSeg_dataset/HMS_processed/segmentation/185/185_boundary_3d_mask.npy',\n",
       "   'foreground': '/data/CellSeg_dataset/HMS_processed/segmentation/185/185_foreground_3d_mask.npy'},\n",
       "  '130': {'raw': '/data/CellSeg_dataset/HMS_processed/raw/130.npy',\n",
       "   'background': '/data/CellSeg_dataset/HMS_processed/segmentation/130/130_background_3d_mask.npy',\n",
       "   'boundary': '/data/CellSeg_dataset/HMS_processed/segmentation/130/130_boundary_3d_mask.npy',\n",
       "   'foreground': '/data/CellSeg_dataset/HMS_processed/segmentation/130/130_foreground_3d_mask.npy'},\n",
       "  '165': {'raw': '/data/CellSeg_dataset/HMS_processed/raw/165.npy',\n",
       "   'background': '/data/CellSeg_dataset/HMS_processed/segmentation/165/165_background_3d_mask.npy',\n",
       "   'boundary': '/data/CellSeg_dataset/HMS_processed/segmentation/165/165_boundary_3d_mask.npy',\n",
       "   'foreground': '/data/CellSeg_dataset/HMS_processed/segmentation/165/165_foreground_3d_mask.npy'},\n",
       "  '50': {'raw': '/data/CellSeg_dataset/HMS_processed/raw/50.npy',\n",
       "   'background': '/data/CellSeg_dataset/HMS_processed/segmentation/50/50_background_3d_mask.npy',\n",
       "   'boundary': '/data/CellSeg_dataset/HMS_processed/segmentation/50/50_boundary_3d_mask.npy',\n",
       "   'foreground': '/data/CellSeg_dataset/HMS_processed/segmentation/50/50_foreground_3d_mask.npy'},\n",
       "  '170': {'raw': '/data/CellSeg_dataset/HMS_processed/raw/170.npy',\n",
       "   'background': '/data/CellSeg_dataset/HMS_processed/segmentation/170/170_background_3d_mask.npy',\n",
       "   'boundary': '/data/CellSeg_dataset/HMS_processed/segmentation/170/170_boundary_3d_mask.npy',\n",
       "   'foreground': '/data/CellSeg_dataset/HMS_processed/segmentation/170/170_foreground_3d_mask.npy'},\n",
       "  '70': {'raw': '/data/CellSeg_dataset/HMS_processed/raw/70.npy',\n",
       "   'background': '/data/CellSeg_dataset/HMS_processed/segmentation/70/70_background_3d_mask.npy',\n",
       "   'boundary': '/data/CellSeg_dataset/HMS_processed/segmentation/70/70_boundary_3d_mask.npy',\n",
       "   'foreground': '/data/CellSeg_dataset/HMS_processed/segmentation/70/70_foreground_3d_mask.npy'},\n",
       "  '125': {'raw': '/data/CellSeg_dataset/HMS_processed/raw/125.npy',\n",
       "   'background': '/data/CellSeg_dataset/HMS_processed/segmentation/125/125_background_3d_mask.npy',\n",
       "   'boundary': '/data/CellSeg_dataset/HMS_processed/segmentation/125/125_boundary_3d_mask.npy',\n",
       "   'foreground': '/data/CellSeg_dataset/HMS_processed/segmentation/125/125_foreground_3d_mask.npy'},\n",
       "  '145': {'raw': '/data/CellSeg_dataset/HMS_processed/raw/145.npy',\n",
       "   'background': '/data/CellSeg_dataset/HMS_processed/segmentation/145/145_background_3d_mask.npy',\n",
       "   'boundary': '/data/CellSeg_dataset/HMS_processed/segmentation/145/145_boundary_3d_mask.npy',\n",
       "   'foreground': '/data/CellSeg_dataset/HMS_processed/segmentation/145/145_foreground_3d_mask.npy'},\n",
       "  '105': {'raw': '/data/CellSeg_dataset/HMS_processed/raw/105.npy',\n",
       "   'background': '/data/CellSeg_dataset/HMS_processed/segmentation/105/105_background_3d_mask.npy',\n",
       "   'boundary': '/data/CellSeg_dataset/HMS_processed/segmentation/105/105_boundary_3d_mask.npy',\n",
       "   'foreground': '/data/CellSeg_dataset/HMS_processed/segmentation/105/105_foreground_3d_mask.npy'},\n",
       "  '195': {'raw': '/data/CellSeg_dataset/HMS_processed/raw/195.npy',\n",
       "   'background': '/data/CellSeg_dataset/HMS_processed/segmentation/195/195_background_3d_mask.npy',\n",
       "   'boundary': '/data/CellSeg_dataset/HMS_processed/segmentation/195/195_boundary_3d_mask.npy',\n",
       "   'foreground': '/data/CellSeg_dataset/HMS_processed/segmentation/195/195_foreground_3d_mask.npy'},\n",
       "  '115': {'raw': '/data/CellSeg_dataset/HMS_processed/raw/115.npy',\n",
       "   'background': '/data/CellSeg_dataset/HMS_processed/segmentation/115/115_background_3d_mask.npy',\n",
       "   'boundary': '/data/CellSeg_dataset/HMS_processed/segmentation/115/115_boundary_3d_mask.npy',\n",
       "   'foreground': '/data/CellSeg_dataset/HMS_processed/segmentation/115/115_foreground_3d_mask.npy'},\n",
       "  '60': {'raw': '/data/CellSeg_dataset/HMS_processed/raw/60.npy',\n",
       "   'background': '/data/CellSeg_dataset/HMS_processed/segmentation/60/60_background_3d_mask.npy',\n",
       "   'boundary': '/data/CellSeg_dataset/HMS_processed/segmentation/60/60_boundary_3d_mask.npy',\n",
       "   'foreground': '/data/CellSeg_dataset/HMS_processed/segmentation/60/60_foreground_3d_mask.npy'},\n",
       "  '200': {'raw': '/data/CellSeg_dataset/HMS_processed/raw/200.npy',\n",
       "   'background': '/data/CellSeg_dataset/HMS_processed/segmentation/200/200_background_3d_mask.npy',\n",
       "   'boundary': '/data/CellSeg_dataset/HMS_processed/segmentation/200/200_boundary_3d_mask.npy',\n",
       "   'foreground': '/data/CellSeg_dataset/HMS_processed/segmentation/200/200_foreground_3d_mask.npy'},\n",
       "  '205': {'raw': '/data/CellSeg_dataset/HMS_processed/raw/205.npy',\n",
       "   'background': '/data/CellSeg_dataset/HMS_processed/segmentation/205/205_background_3d_mask.npy',\n",
       "   'boundary': '/data/CellSeg_dataset/HMS_processed/segmentation/205/205_boundary_3d_mask.npy',\n",
       "   'foreground': '/data/CellSeg_dataset/HMS_processed/segmentation/205/205_foreground_3d_mask.npy'},\n",
       "  '180': {'raw': '/data/CellSeg_dataset/HMS_processed/raw/180.npy',\n",
       "   'background': '/data/CellSeg_dataset/HMS_processed/segmentation/180/180_background_3d_mask.npy',\n",
       "   'boundary': '/data/CellSeg_dataset/HMS_processed/segmentation/180/180_boundary_3d_mask.npy',\n",
       "   'foreground': '/data/CellSeg_dataset/HMS_processed/segmentation/180/180_foreground_3d_mask.npy'},\n",
       "  '175': {'raw': '/data/CellSeg_dataset/HMS_processed/raw/175.npy',\n",
       "   'background': '/data/CellSeg_dataset/HMS_processed/segmentation/175/175_background_3d_mask.npy',\n",
       "   'boundary': '/data/CellSeg_dataset/HMS_processed/segmentation/175/175_boundary_3d_mask.npy',\n",
       "   'foreground': '/data/CellSeg_dataset/HMS_processed/segmentation/175/175_foreground_3d_mask.npy'},\n",
       "  '75': {'raw': '/data/CellSeg_dataset/HMS_processed/raw/75.npy',\n",
       "   'background': '/data/CellSeg_dataset/HMS_processed/segmentation/75/75_background_3d_mask.npy',\n",
       "   'boundary': '/data/CellSeg_dataset/HMS_processed/segmentation/75/75_boundary_3d_mask.npy',\n",
       "   'foreground': '/data/CellSeg_dataset/HMS_processed/segmentation/75/75_foreground_3d_mask.npy'},\n",
       "  '140': {'raw': '/data/CellSeg_dataset/HMS_processed/raw/140.npy',\n",
       "   'background': '/data/CellSeg_dataset/HMS_processed/segmentation/140/140_background_3d_mask.npy',\n",
       "   'boundary': '/data/CellSeg_dataset/HMS_processed/segmentation/140/140_boundary_3d_mask.npy',\n",
       "   'foreground': '/data/CellSeg_dataset/HMS_processed/segmentation/140/140_foreground_3d_mask.npy'},\n",
       "  '85': {'raw': '/data/CellSeg_dataset/HMS_processed/raw/85.npy',\n",
       "   'background': '/data/CellSeg_dataset/HMS_processed/segmentation/85/85_background_3d_mask.npy',\n",
       "   'boundary': '/data/CellSeg_dataset/HMS_processed/segmentation/85/85_boundary_3d_mask.npy',\n",
       "   'foreground': '/data/CellSeg_dataset/HMS_processed/segmentation/85/85_foreground_3d_mask.npy'},\n",
       "  '215': {'raw': '/data/CellSeg_dataset/HMS_processed/raw/215.npy',\n",
       "   'background': '/data/CellSeg_dataset/HMS_processed/segmentation/215/215_background_3d_mask.npy',\n",
       "   'boundary': '/data/CellSeg_dataset/HMS_processed/segmentation/215/215_boundary_3d_mask.npy',\n",
       "   'foreground': '/data/CellSeg_dataset/HMS_processed/segmentation/215/215_foreground_3d_mask.npy'},\n",
       "  '225': {'raw': '/data/CellSeg_dataset/HMS_processed/raw/225.npy',\n",
       "   'background': '/data/CellSeg_dataset/HMS_processed/segmentation/225/225_background_3d_mask.npy',\n",
       "   'boundary': '/data/CellSeg_dataset/HMS_processed/segmentation/225/225_boundary_3d_mask.npy',\n",
       "   'foreground': '/data/CellSeg_dataset/HMS_processed/segmentation/225/225_foreground_3d_mask.npy'},\n",
       "  '150': {'raw': '/data/CellSeg_dataset/HMS_processed/raw/150.npy',\n",
       "   'background': '/data/CellSeg_dataset/HMS_processed/segmentation/150/150_background_3d_mask.npy',\n",
       "   'boundary': '/data/CellSeg_dataset/HMS_processed/segmentation/150/150_boundary_3d_mask.npy',\n",
       "   'foreground': '/data/CellSeg_dataset/HMS_processed/segmentation/150/150_foreground_3d_mask.npy'},\n",
       "  '155': {'raw': '/data/CellSeg_dataset/HMS_processed/raw/155.npy',\n",
       "   'background': '/data/CellSeg_dataset/HMS_processed/segmentation/155/155_background_3d_mask.npy',\n",
       "   'boundary': '/data/CellSeg_dataset/HMS_processed/segmentation/155/155_boundary_3d_mask.npy',\n",
       "   'foreground': '/data/CellSeg_dataset/HMS_processed/segmentation/155/155_foreground_3d_mask.npy'},\n",
       "  '160': {'raw': '/data/CellSeg_dataset/HMS_processed/raw/160.npy',\n",
       "   'background': '/data/CellSeg_dataset/HMS_processed/segmentation/160/160_background_3d_mask.npy',\n",
       "   'boundary': '/data/CellSeg_dataset/HMS_processed/segmentation/160/160_boundary_3d_mask.npy',\n",
       "   'foreground': '/data/CellSeg_dataset/HMS_processed/segmentation/160/160_foreground_3d_mask.npy'},\n",
       "  '80': {'raw': '/data/CellSeg_dataset/HMS_processed/raw/80.npy',\n",
       "   'background': '/data/CellSeg_dataset/HMS_processed/segmentation/80/80_background_3d_mask.npy',\n",
       "   'boundary': '/data/CellSeg_dataset/HMS_processed/segmentation/80/80_boundary_3d_mask.npy',\n",
       "   'foreground': '/data/CellSeg_dataset/HMS_processed/segmentation/80/80_foreground_3d_mask.npy'},\n",
       "  '95': {'raw': '/data/CellSeg_dataset/HMS_processed/raw/95.npy',\n",
       "   'background': '/data/CellSeg_dataset/HMS_processed/segmentation/95/95_background_3d_mask.npy',\n",
       "   'boundary': '/data/CellSeg_dataset/HMS_processed/segmentation/95/95_boundary_3d_mask.npy',\n",
       "   'foreground': '/data/CellSeg_dataset/HMS_processed/segmentation/95/95_foreground_3d_mask.npy'},\n",
       "  '110': {'raw': '/data/CellSeg_dataset/HMS_processed/raw/110.npy',\n",
       "   'background': '/data/CellSeg_dataset/HMS_processed/segmentation/110/110_background_3d_mask.npy',\n",
       "   'boundary': '/data/CellSeg_dataset/HMS_processed/segmentation/110/110_boundary_3d_mask.npy',\n",
       "   'foreground': '/data/CellSeg_dataset/HMS_processed/segmentation/110/110_foreground_3d_mask.npy'},\n",
       "  '220': {'raw': '/data/CellSeg_dataset/HMS_processed/raw/220.npy',\n",
       "   'background': '/data/CellSeg_dataset/HMS_processed/segmentation/220/220_background_3d_mask.npy',\n",
       "   'boundary': '/data/CellSeg_dataset/HMS_processed/segmentation/220/220_boundary_3d_mask.npy',\n",
       "   'foreground': '/data/CellSeg_dataset/HMS_processed/segmentation/220/220_foreground_3d_mask.npy'},\n",
       "  '190': {'raw': '/data/CellSeg_dataset/HMS_processed/raw/190.npy',\n",
       "   'background': '/data/CellSeg_dataset/HMS_processed/segmentation/190/190_background_3d_mask.npy',\n",
       "   'boundary': '/data/CellSeg_dataset/HMS_processed/segmentation/190/190_boundary_3d_mask.npy',\n",
       "   'foreground': '/data/CellSeg_dataset/HMS_processed/segmentation/190/190_foreground_3d_mask.npy'},\n",
       "  '55': {'raw': '/data/CellSeg_dataset/HMS_processed/raw/55.npy',\n",
       "   'background': '/data/CellSeg_dataset/HMS_processed/segmentation/55/55_background_3d_mask.npy',\n",
       "   'boundary': '/data/CellSeg_dataset/HMS_processed/segmentation/55/55_boundary_3d_mask.npy',\n",
       "   'foreground': '/data/CellSeg_dataset/HMS_processed/segmentation/55/55_foreground_3d_mask.npy'},\n",
       "  '100': {'raw': '/data/CellSeg_dataset/HMS_processed/raw/100.npy',\n",
       "   'background': '/data/CellSeg_dataset/HMS_processed/segmentation/100/100_background_3d_mask.npy',\n",
       "   'boundary': '/data/CellSeg_dataset/HMS_processed/segmentation/100/100_boundary_3d_mask.npy',\n",
       "   'foreground': '/data/CellSeg_dataset/HMS_processed/segmentation/100/100_foreground_3d_mask.npy'}},\n",
       " 'test': {'90': {'raw': '/data/CellSeg_dataset/HMS_processed/raw/90.npy',\n",
       "   'background': '/data/CellSeg_dataset/HMS_processed/segmentation/90/90_background_3d_mask.npy',\n",
       "   'boundary': '/data/CellSeg_dataset/HMS_processed/segmentation/90/90_boundary_3d_mask.npy',\n",
       "   'foreground': '/data/CellSeg_dataset/HMS_processed/segmentation/90/90_foreground_3d_mask.npy',\n",
       "   'ins': '/data/CellSeg_dataset/HMS_processed/segmentation/90/90_ins.npy'},\n",
       "  '120': {'raw': '/data/CellSeg_dataset/HMS_processed/raw/120.npy',\n",
       "   'background': '/data/CellSeg_dataset/HMS_processed/segmentation/120/120_background_3d_mask.npy',\n",
       "   'boundary': '/data/CellSeg_dataset/HMS_processed/segmentation/120/120_boundary_3d_mask.npy',\n",
       "   'foreground': '/data/CellSeg_dataset/HMS_processed/segmentation/120/120_foreground_3d_mask.npy',\n",
       "   'ins': '/data/CellSeg_dataset/HMS_processed/segmentation/120/120_ins.npy'},\n",
       "  '135': {'raw': '/data/CellSeg_dataset/HMS_processed/raw/135.npy',\n",
       "   'background': '/data/CellSeg_dataset/HMS_processed/segmentation/135/135_background_3d_mask.npy',\n",
       "   'boundary': '/data/CellSeg_dataset/HMS_processed/segmentation/135/135_boundary_3d_mask.npy',\n",
       "   'foreground': '/data/CellSeg_dataset/HMS_processed/segmentation/135/135_foreground_3d_mask.npy',\n",
       "   'ins': '/data/CellSeg_dataset/HMS_processed/segmentation/135/135_ins.npy'},\n",
       "  '65': {'raw': '/data/CellSeg_dataset/HMS_processed/raw/65.npy',\n",
       "   'background': '/data/CellSeg_dataset/HMS_processed/segmentation/65/65_background_3d_mask.npy',\n",
       "   'boundary': '/data/CellSeg_dataset/HMS_processed/segmentation/65/65_boundary_3d_mask.npy',\n",
       "   'foreground': '/data/CellSeg_dataset/HMS_processed/segmentation/65/65_foreground_3d_mask.npy',\n",
       "   'ins': '/data/CellSeg_dataset/HMS_processed/segmentation/65/65_ins.npy'}}}"
      ]
     },
     "execution_count": 6,
     "metadata": {},
     "output_type": "execute_result"
    }
   ],
   "source": [
    "HMS_data_dict"
   ]
  },
  {
   "cell_type": "markdown",
   "id": "fc6f4450",
   "metadata": {},
   "source": [
    "### ATAS"
   ]
  },
  {
   "cell_type": "code",
   "execution_count": 7,
   "id": "a11a01df",
   "metadata": {},
   "outputs": [],
   "source": [
    "# please change if needed\n",
    "source_path = \"/data/CellSeg_dataset/ATAS\"\n",
    "processed_path = \"/data/CellSeg_dataset/ATAS_processed\"\n",
    "pre_cropped_path = \"/data/CellSeg_dataset/ATAS_processed_pre_croped\""
   ]
  },
  {
   "cell_type": "code",
   "execution_count": 8,
   "id": "59309adc",
   "metadata": {},
   "outputs": [],
   "source": [
    "# # step 1\n",
    "# run_py_script = \"python prepare_dataset/prepare_ATAS_dataset.py \"+\\\n",
    "# \"--source_file_path \"+source_path+\" \"+\\\n",
    "# \"--output_file_path \"+processed_path+\" \"+\\\n",
    "# \"--width_of_membrane 1.5\"\n",
    "# print(\"run \"+run_py_script)\n",
    "# os.system(run_py_script)"
   ]
  },
  {
   "cell_type": "code",
   "execution_count": 9,
   "id": "203ef780",
   "metadata": {
    "scrolled": true
   },
   "outputs": [
    {
     "name": "stdout",
     "output_type": "stream",
     "text": [
      "run python prepare_dataset/get_the_dataset_info_of_ATAS.py --path /data/CellSeg_dataset/ATAS_processed --test_name 'plant15' \n",
      "['/home/v-andongwang/Projects/CellSeg_github/prepare_dataset', '/home/v-andongwang/anaconda3/envs/clip/lib/python38.zip', '/home/v-andongwang/anaconda3/envs/clip/lib/python3.8', '/home/v-andongwang/anaconda3/envs/clip/lib/python3.8/lib-dynload', '/home/v-andongwang/anaconda3/envs/clip/lib/python3.8/site-packages', '/home/v-andongwang/anaconda3/envs/clip/lib/python3.8/site-packages/wheel-0.37.1-py3.8.egg', '/home/v-andongwang/Projects/Learning/Dassl.pytorch', '/home/v-andongwang/anaconda3/envs/clip/lib/python3.8/site-packages/locket-0.2.1-py3.8.egg', '/home/v-andongwang/Projects/CellSeg_github']\n",
      "{'train': {'plant2_68hrs.h5': '/data/CellSeg_dataset/ATAS_processed/plant2_68hrs.h5', 'plant2_56hrs.h5': '/data/CellSeg_dataset/ATAS_processed/plant2_56hrs.h5', 'plant1_16hrs.h5': '/data/CellSeg_dataset/ATAS_processed/plant1_16hrs.h5', 'plant4_64hrs.h5': '/data/CellSeg_dataset/ATAS_processed/plant4_64hrs.h5', 'plant18_28hrs.h5': '/data/CellSeg_dataset/ATAS_processed/plant18_28hrs.h5', 'plant4_8hrs.h5': '/data/CellSeg_dataset/ATAS_processed/plant4_8hrs.h5', 'plant2_76hrs.h5': '/data/CellSeg_dataset/ATAS_processed/plant2_76hrs.h5', 'plant1_12hrs.h5': '/data/CellSeg_dataset/ATAS_processed/plant1_12hrs.h5', 'plant2_20hrs.h5': '/data/CellSeg_dataset/ATAS_processed/plant2_20hrs.h5', 'plant1_0hrs.h5': '/data/CellSeg_dataset/ATAS_processed/plant1_0hrs.h5', 'plant2_16hrs.h5': '/data/CellSeg_dataset/ATAS_processed/plant2_16hrs.h5', 'plant4_48hrs.h5': '/data/CellSeg_dataset/ATAS_processed/plant4_48hrs.h5', 'plant1_68hrs.h5': '/data/CellSeg_dataset/ATAS_processed/plant1_68hrs.h5', 'plant4_60hrs.h5': '/data/CellSeg_dataset/ATAS_processed/plant4_60hrs.h5', 'plant4_36hrs.h5': '/data/CellSeg_dataset/ATAS_processed/plant4_36hrs.h5', 'plant4_68hrs.h5': '/data/CellSeg_dataset/ATAS_processed/plant4_68hrs.h5', 'plant18_12hrs.h5': '/data/CellSeg_dataset/ATAS_processed/plant18_12hrs.h5', 'plant1_76hrs.h5': '/data/CellSeg_dataset/ATAS_processed/plant1_76hrs.h5', 'plant4_12hrs.h5': '/data/CellSeg_dataset/ATAS_processed/plant4_12hrs.h5', 'plant13_8hrs.h5': '/data/CellSeg_dataset/ATAS_processed/plant13_8hrs.h5', 'plant4_52hrs.h5': '/data/CellSeg_dataset/ATAS_processed/plant4_52hrs.h5', 'plant4_4hrs.h5': '/data/CellSeg_dataset/ATAS_processed/plant4_4hrs.h5', 'plant1_8hrs.h5': '/data/CellSeg_dataset/ATAS_processed/plant1_8hrs.h5', 'plant2_72hrs.h5': '/data/CellSeg_dataset/ATAS_processed/plant2_72hrs.h5', 'plant4_40hrs.h5': '/data/CellSeg_dataset/ATAS_processed/plant4_40hrs.h5', 'plant18_80hrs.h5': '/data/CellSeg_dataset/ATAS_processed/plant18_80hrs.h5', 'plant13_36hrs.h5': '/data/CellSeg_dataset/ATAS_processed/plant13_36hrs.h5', 'plant13_60hrs.h5': '/data/CellSeg_dataset/ATAS_processed/plant13_60hrs.h5', 'plant2_8hrs.h5': '/data/CellSeg_dataset/ATAS_processed/plant2_8hrs.h5', 'plant2_44hrs.h5': '/data/CellSeg_dataset/ATAS_processed/plant2_44hrs.h5', 'plant2_36hrs.h5': '/data/CellSeg_dataset/ATAS_processed/plant2_36hrs.h5', 'plant13_32hrs.h5': '/data/CellSeg_dataset/ATAS_processed/plant13_32hrs.h5', 'plant2_52hrs.h5': '/data/CellSeg_dataset/ATAS_processed/plant2_52hrs.h5', 'plant13_76hrs.h5': '/data/CellSeg_dataset/ATAS_processed/plant13_76hrs.h5', 'plant18_24hrs.h5': '/data/CellSeg_dataset/ATAS_processed/plant18_24hrs.h5', 'plant4_24hrs.h5': '/data/CellSeg_dataset/ATAS_processed/plant4_24hrs.h5', 'plant1_28hrs.h5': '/data/CellSeg_dataset/ATAS_processed/plant1_28hrs.h5', 'plant4_0hrs.h5': '/data/CellSeg_dataset/ATAS_processed/plant4_0hrs.h5', 'plant2_60hrs.h5': '/data/CellSeg_dataset/ATAS_processed/plant2_60hrs.h5', 'plant13_68hrs.h5': '/data/CellSeg_dataset/ATAS_processed/plant13_68hrs.h5', 'plant1_48hrs.h5': '/data/CellSeg_dataset/ATAS_processed/plant1_48hrs.h5', 'plant4_16hrs.h5': '/data/CellSeg_dataset/ATAS_processed/plant4_16hrs.h5', 'plant4_32hrs.h5': '/data/CellSeg_dataset/ATAS_processed/plant4_32hrs.h5', 'plant18_76hrs.h5': '/data/CellSeg_dataset/ATAS_processed/plant18_76hrs.h5', 'plant4_72hrs.h5': '/data/CellSeg_dataset/ATAS_processed/plant4_72hrs.h5', 'plant13_80hrs.h5': '/data/CellSeg_dataset/ATAS_processed/plant13_80hrs.h5', 'plant13_12hrs.h5': '/data/CellSeg_dataset/ATAS_processed/plant13_12hrs.h5', 'plant18_16hrs.h5': '/data/CellSeg_dataset/ATAS_processed/plant18_16hrs.h5', 'plant13_48hrs.h5': '/data/CellSeg_dataset/ATAS_processed/plant13_48hrs.h5', 'plant18_72hrs.h5': '/data/CellSeg_dataset/ATAS_processed/plant18_72hrs.h5', 'plant18_36hrs.h5': '/data/CellSeg_dataset/ATAS_processed/plant18_36hrs.h5', 'plant4_44hrs.h5': '/data/CellSeg_dataset/ATAS_processed/plant4_44hrs.h5', 'plant4_56hrs.h5': '/data/CellSeg_dataset/ATAS_processed/plant4_56hrs.h5', 'plant13_52hrs.h5': '/data/CellSeg_dataset/ATAS_processed/plant13_52hrs.h5', 'plant18_52hrs.h5': '/data/CellSeg_dataset/ATAS_processed/plant18_52hrs.h5', 'plant4_76hrs.h5': '/data/CellSeg_dataset/ATAS_processed/plant4_76hrs.h5', 'plant13_4hrs.h5': '/data/CellSeg_dataset/ATAS_processed/plant13_4hrs.h5', 'plant2_28hrs.h5': '/data/CellSeg_dataset/ATAS_processed/plant2_28hrs.h5', 'plant13_16hrs.h5': '/data/CellSeg_dataset/ATAS_processed/plant13_16hrs.h5', 'plant18_44hrs.h5': '/data/CellSeg_dataset/ATAS_processed/plant18_44hrs.h5', 'plant18_32hrs.h5': '/data/CellSeg_dataset/ATAS_processed/plant18_32hrs.h5', 'plant2_40hrs.h5': '/data/CellSeg_dataset/ATAS_processed/plant2_40hrs.h5', 'plant2_24hrs.h5': '/data/CellSeg_dataset/ATAS_processed/plant2_24hrs.h5', 'plant1_32hrs.h5': '/data/CellSeg_dataset/ATAS_processed/plant1_32hrs.h5', 'plant13_20hrs.h5': '/data/CellSeg_dataset/ATAS_processed/plant13_20hrs.h5', 'plant13_28hrs.h5': '/data/CellSeg_dataset/ATAS_processed/plant13_28hrs.h5', 'plant1_44hrs.h5': '/data/CellSeg_dataset/ATAS_processed/plant1_44hrs.h5', 'plant4_28hrs.h5': '/data/CellSeg_dataset/ATAS_processed/plant4_28hrs.h5', 'plant1_64hrs.h5': '/data/CellSeg_dataset/ATAS_processed/plant1_64hrs.h5', 'plant2_32hrs.h5': '/data/CellSeg_dataset/ATAS_processed/plant2_32hrs.h5', 'plant18_60hrs.h5': '/data/CellSeg_dataset/ATAS_processed/plant18_60hrs.h5', 'plant13_40hrs.h5': '/data/CellSeg_dataset/ATAS_processed/plant13_40hrs.h5', 'plant1_56hrs.h5': '/data/CellSeg_dataset/ATAS_processed/plant1_56hrs.h5', 'plant13_24hrs.h5': '/data/CellSeg_dataset/ATAS_processed/plant13_24hrs.h5', 'plant18_84hrs.h5': '/data/CellSeg_dataset/ATAS_processed/plant18_84hrs.h5', 'plant1_40hrs.h5': '/data/CellSeg_dataset/ATAS_processed/plant1_40hrs.h5', 'plant1_52hrs.h5': '/data/CellSeg_dataset/ATAS_processed/plant1_52hrs.h5', 'plant18_0hrs.h5': '/data/CellSeg_dataset/ATAS_processed/plant18_0hrs.h5', 'plant1_4hrs.h5': '/data/CellSeg_dataset/ATAS_processed/plant1_4hrs.h5', 'plant18_48hrs.h5': '/data/CellSeg_dataset/ATAS_processed/plant18_48hrs.h5', 'plant4_20hrs.h5': '/data/CellSeg_dataset/ATAS_processed/plant4_20hrs.h5', 'plant1_36hrs.h5': '/data/CellSeg_dataset/ATAS_processed/plant1_36hrs.h5', 'plant2_48hrs.h5': '/data/CellSeg_dataset/ATAS_processed/plant2_48hrs.h5', 'plant18_64hrs.h5': '/data/CellSeg_dataset/ATAS_processed/plant18_64hrs.h5', 'plant18_68hrs.h5': '/data/CellSeg_dataset/ATAS_processed/plant18_68hrs.h5', 'plant1_20hrs.h5': '/data/CellSeg_dataset/ATAS_processed/plant1_20hrs.h5', 'plant18_4hrs.h5': '/data/CellSeg_dataset/ATAS_processed/plant18_4hrs.h5', 'plant2_12hrs.h5': '/data/CellSeg_dataset/ATAS_processed/plant2_12hrs.h5', 'plant13_84hrs.h5': '/data/CellSeg_dataset/ATAS_processed/plant13_84hrs.h5', 'plant2_0hrs.h5': '/data/CellSeg_dataset/ATAS_processed/plant2_0hrs.h5', 'plant1_24hrs.h5': '/data/CellSeg_dataset/ATAS_processed/plant1_24hrs.h5', 'plant13_72hrs.h5': '/data/CellSeg_dataset/ATAS_processed/plant13_72hrs.h5', 'plant2_64hrs.h5': '/data/CellSeg_dataset/ATAS_processed/plant2_64hrs.h5', 'plant13_56hrs.h5': '/data/CellSeg_dataset/ATAS_processed/plant13_56hrs.h5', 'plant13_44hrs.h5': '/data/CellSeg_dataset/ATAS_processed/plant13_44hrs.h5', 'plant1_60hrs.h5': '/data/CellSeg_dataset/ATAS_processed/plant1_60hrs.h5', 'plant13_0hrs.h5': '/data/CellSeg_dataset/ATAS_processed/plant13_0hrs.h5', 'plant18_8hrs.h5': '/data/CellSeg_dataset/ATAS_processed/plant18_8hrs.h5', 'plant18_56hrs.h5': '/data/CellSeg_dataset/ATAS_processed/plant18_56hrs.h5', 'plant2_4hrs.h5': '/data/CellSeg_dataset/ATAS_processed/plant2_4hrs.h5', 'plant13_64hrs.h5': '/data/CellSeg_dataset/ATAS_processed/plant13_64hrs.h5', 'plant18_20hrs.h5': '/data/CellSeg_dataset/ATAS_processed/plant18_20hrs.h5', 'plant1_72hrs.h5': '/data/CellSeg_dataset/ATAS_processed/plant1_72hrs.h5'}, 'test': {'plant15_72hrs.h5': '/data/CellSeg_dataset/ATAS_processed/plant15_72hrs.h5', 'plant15_0hrs.h5': '/data/CellSeg_dataset/ATAS_processed/plant15_0hrs.h5', 'plant15_68hrs.h5': '/data/CellSeg_dataset/ATAS_processed/plant15_68hrs.h5', 'plant15_28hrs.h5': '/data/CellSeg_dataset/ATAS_processed/plant15_28hrs.h5', 'plant15_64hrs.h5': '/data/CellSeg_dataset/ATAS_processed/plant15_64hrs.h5', 'plant15_44hrs.h5': '/data/CellSeg_dataset/ATAS_processed/plant15_44hrs.h5', 'plant15_80hrs.h5': '/data/CellSeg_dataset/ATAS_processed/plant15_80hrs.h5', 'plant15_56hrs.h5': '/data/CellSeg_dataset/ATAS_processed/plant15_56hrs.h5', 'plant15_84hrs.h5': '/data/CellSeg_dataset/ATAS_processed/plant15_84hrs.h5', 'plant15_12hrs.h5': '/data/CellSeg_dataset/ATAS_processed/plant15_12hrs.h5', 'plant15_76hrs.h5': '/data/CellSeg_dataset/ATAS_processed/plant15_76hrs.h5', 'plant15_32hrs.h5': '/data/CellSeg_dataset/ATAS_processed/plant15_32hrs.h5', 'plant15_20hrs.h5': '/data/CellSeg_dataset/ATAS_processed/plant15_20hrs.h5', 'plant15_48hrs.h5': '/data/CellSeg_dataset/ATAS_processed/plant15_48hrs.h5', 'plant15_24hrs.h5': '/data/CellSeg_dataset/ATAS_processed/plant15_24hrs.h5', 'plant15_4hrs.h5': '/data/CellSeg_dataset/ATAS_processed/plant15_4hrs.h5', 'plant15_16hrs.h5': '/data/CellSeg_dataset/ATAS_processed/plant15_16hrs.h5', 'plant15_36hrs.h5': '/data/CellSeg_dataset/ATAS_processed/plant15_36hrs.h5', 'plant15_60hrs.h5': '/data/CellSeg_dataset/ATAS_processed/plant15_60hrs.h5', 'plant15_8hrs.h5': '/data/CellSeg_dataset/ATAS_processed/plant15_8hrs.h5', 'plant15_52hrs.h5': '/data/CellSeg_dataset/ATAS_processed/plant15_52hrs.h5', 'plant15_40hrs.h5': '/data/CellSeg_dataset/ATAS_processed/plant15_40hrs.h5'}}\n"
     ]
    },
    {
     "data": {
      "text/plain": [
       "0"
      ]
     },
     "execution_count": 9,
     "metadata": {},
     "output_type": "execute_result"
    }
   ],
   "source": [
    "# step 2\n",
    "run_py_script = \"python prepare_dataset/get_the_dataset_info_of_ATAS.py \"+\\\n",
    "\"--path \"+processed_path+\" \"+\\\n",
    "\"--test_name 'plant15' \"\n",
    "print(\"run \"+run_py_script)\n",
    "os.system(run_py_script)"
   ]
  },
  {
   "cell_type": "code",
   "execution_count": 10,
   "id": "35885af7",
   "metadata": {},
   "outputs": [],
   "source": [
    "# # step 3\n",
    "# # use the dataset_info generated from get_the_dataset_info_of_ATAS.py\n",
    "# run_py_script = \"python prepare_dataset/pre_crop_ATAS.py \"+\\\n",
    "# \"--output_path \"+pre_cropped_path+\" \"\n",
    "# print(\"run \"+run_py_script)\n",
    "# os.system(run_py_script)\n",
    "\n",
    "# # step 4\n",
    "# run_py_script = \"python prepare_dataset/get_the_dataset_info_of_ATAS_pre_cropped.py \"+\\\n",
    "# \"--path \"+pre_cropped_path\n",
    "# print(\"run \"+run_py_script)\n",
    "# os.system(run_py_script)"
   ]
  },
  {
   "cell_type": "code",
   "execution_count": 11,
   "id": "75e4a26f",
   "metadata": {},
   "outputs": [],
   "source": [
    "ATAS_data_dict = load_obj(\"dataset_info/ATAS_dataset_info\")"
   ]
  },
  {
   "cell_type": "code",
   "execution_count": 12,
   "id": "a964b896",
   "metadata": {},
   "outputs": [
    {
     "data": {
      "text/plain": [
       "{'train': {'plant2_68hrs.h5': '/data/CellSeg_dataset/ATAS_processed/plant2_68hrs.h5',\n",
       "  'plant2_56hrs.h5': '/data/CellSeg_dataset/ATAS_processed/plant2_56hrs.h5',\n",
       "  'plant1_16hrs.h5': '/data/CellSeg_dataset/ATAS_processed/plant1_16hrs.h5',\n",
       "  'plant4_64hrs.h5': '/data/CellSeg_dataset/ATAS_processed/plant4_64hrs.h5',\n",
       "  'plant18_28hrs.h5': '/data/CellSeg_dataset/ATAS_processed/plant18_28hrs.h5',\n",
       "  'plant4_8hrs.h5': '/data/CellSeg_dataset/ATAS_processed/plant4_8hrs.h5',\n",
       "  'plant2_76hrs.h5': '/data/CellSeg_dataset/ATAS_processed/plant2_76hrs.h5',\n",
       "  'plant1_12hrs.h5': '/data/CellSeg_dataset/ATAS_processed/plant1_12hrs.h5',\n",
       "  'plant2_20hrs.h5': '/data/CellSeg_dataset/ATAS_processed/plant2_20hrs.h5',\n",
       "  'plant1_0hrs.h5': '/data/CellSeg_dataset/ATAS_processed/plant1_0hrs.h5',\n",
       "  'plant2_16hrs.h5': '/data/CellSeg_dataset/ATAS_processed/plant2_16hrs.h5',\n",
       "  'plant4_48hrs.h5': '/data/CellSeg_dataset/ATAS_processed/plant4_48hrs.h5',\n",
       "  'plant1_68hrs.h5': '/data/CellSeg_dataset/ATAS_processed/plant1_68hrs.h5',\n",
       "  'plant4_60hrs.h5': '/data/CellSeg_dataset/ATAS_processed/plant4_60hrs.h5',\n",
       "  'plant4_36hrs.h5': '/data/CellSeg_dataset/ATAS_processed/plant4_36hrs.h5',\n",
       "  'plant4_68hrs.h5': '/data/CellSeg_dataset/ATAS_processed/plant4_68hrs.h5',\n",
       "  'plant18_12hrs.h5': '/data/CellSeg_dataset/ATAS_processed/plant18_12hrs.h5',\n",
       "  'plant1_76hrs.h5': '/data/CellSeg_dataset/ATAS_processed/plant1_76hrs.h5',\n",
       "  'plant4_12hrs.h5': '/data/CellSeg_dataset/ATAS_processed/plant4_12hrs.h5',\n",
       "  'plant13_8hrs.h5': '/data/CellSeg_dataset/ATAS_processed/plant13_8hrs.h5',\n",
       "  'plant4_52hrs.h5': '/data/CellSeg_dataset/ATAS_processed/plant4_52hrs.h5',\n",
       "  'plant4_4hrs.h5': '/data/CellSeg_dataset/ATAS_processed/plant4_4hrs.h5',\n",
       "  'plant1_8hrs.h5': '/data/CellSeg_dataset/ATAS_processed/plant1_8hrs.h5',\n",
       "  'plant2_72hrs.h5': '/data/CellSeg_dataset/ATAS_processed/plant2_72hrs.h5',\n",
       "  'plant4_40hrs.h5': '/data/CellSeg_dataset/ATAS_processed/plant4_40hrs.h5',\n",
       "  'plant18_80hrs.h5': '/data/CellSeg_dataset/ATAS_processed/plant18_80hrs.h5',\n",
       "  'plant13_36hrs.h5': '/data/CellSeg_dataset/ATAS_processed/plant13_36hrs.h5',\n",
       "  'plant13_60hrs.h5': '/data/CellSeg_dataset/ATAS_processed/plant13_60hrs.h5',\n",
       "  'plant2_8hrs.h5': '/data/CellSeg_dataset/ATAS_processed/plant2_8hrs.h5',\n",
       "  'plant2_44hrs.h5': '/data/CellSeg_dataset/ATAS_processed/plant2_44hrs.h5',\n",
       "  'plant2_36hrs.h5': '/data/CellSeg_dataset/ATAS_processed/plant2_36hrs.h5',\n",
       "  'plant13_32hrs.h5': '/data/CellSeg_dataset/ATAS_processed/plant13_32hrs.h5',\n",
       "  'plant2_52hrs.h5': '/data/CellSeg_dataset/ATAS_processed/plant2_52hrs.h5',\n",
       "  'plant13_76hrs.h5': '/data/CellSeg_dataset/ATAS_processed/plant13_76hrs.h5',\n",
       "  'plant18_24hrs.h5': '/data/CellSeg_dataset/ATAS_processed/plant18_24hrs.h5',\n",
       "  'plant4_24hrs.h5': '/data/CellSeg_dataset/ATAS_processed/plant4_24hrs.h5',\n",
       "  'plant1_28hrs.h5': '/data/CellSeg_dataset/ATAS_processed/plant1_28hrs.h5',\n",
       "  'plant4_0hrs.h5': '/data/CellSeg_dataset/ATAS_processed/plant4_0hrs.h5',\n",
       "  'plant2_60hrs.h5': '/data/CellSeg_dataset/ATAS_processed/plant2_60hrs.h5',\n",
       "  'plant13_68hrs.h5': '/data/CellSeg_dataset/ATAS_processed/plant13_68hrs.h5',\n",
       "  'plant1_48hrs.h5': '/data/CellSeg_dataset/ATAS_processed/plant1_48hrs.h5',\n",
       "  'plant4_16hrs.h5': '/data/CellSeg_dataset/ATAS_processed/plant4_16hrs.h5',\n",
       "  'plant4_32hrs.h5': '/data/CellSeg_dataset/ATAS_processed/plant4_32hrs.h5',\n",
       "  'plant18_76hrs.h5': '/data/CellSeg_dataset/ATAS_processed/plant18_76hrs.h5',\n",
       "  'plant4_72hrs.h5': '/data/CellSeg_dataset/ATAS_processed/plant4_72hrs.h5',\n",
       "  'plant13_80hrs.h5': '/data/CellSeg_dataset/ATAS_processed/plant13_80hrs.h5',\n",
       "  'plant13_12hrs.h5': '/data/CellSeg_dataset/ATAS_processed/plant13_12hrs.h5',\n",
       "  'plant18_16hrs.h5': '/data/CellSeg_dataset/ATAS_processed/plant18_16hrs.h5',\n",
       "  'plant13_48hrs.h5': '/data/CellSeg_dataset/ATAS_processed/plant13_48hrs.h5',\n",
       "  'plant18_72hrs.h5': '/data/CellSeg_dataset/ATAS_processed/plant18_72hrs.h5',\n",
       "  'plant18_36hrs.h5': '/data/CellSeg_dataset/ATAS_processed/plant18_36hrs.h5',\n",
       "  'plant4_44hrs.h5': '/data/CellSeg_dataset/ATAS_processed/plant4_44hrs.h5',\n",
       "  'plant4_56hrs.h5': '/data/CellSeg_dataset/ATAS_processed/plant4_56hrs.h5',\n",
       "  'plant13_52hrs.h5': '/data/CellSeg_dataset/ATAS_processed/plant13_52hrs.h5',\n",
       "  'plant18_52hrs.h5': '/data/CellSeg_dataset/ATAS_processed/plant18_52hrs.h5',\n",
       "  'plant4_76hrs.h5': '/data/CellSeg_dataset/ATAS_processed/plant4_76hrs.h5',\n",
       "  'plant13_4hrs.h5': '/data/CellSeg_dataset/ATAS_processed/plant13_4hrs.h5',\n",
       "  'plant2_28hrs.h5': '/data/CellSeg_dataset/ATAS_processed/plant2_28hrs.h5',\n",
       "  'plant13_16hrs.h5': '/data/CellSeg_dataset/ATAS_processed/plant13_16hrs.h5',\n",
       "  'plant18_44hrs.h5': '/data/CellSeg_dataset/ATAS_processed/plant18_44hrs.h5',\n",
       "  'plant18_32hrs.h5': '/data/CellSeg_dataset/ATAS_processed/plant18_32hrs.h5',\n",
       "  'plant2_40hrs.h5': '/data/CellSeg_dataset/ATAS_processed/plant2_40hrs.h5',\n",
       "  'plant2_24hrs.h5': '/data/CellSeg_dataset/ATAS_processed/plant2_24hrs.h5',\n",
       "  'plant1_32hrs.h5': '/data/CellSeg_dataset/ATAS_processed/plant1_32hrs.h5',\n",
       "  'plant13_20hrs.h5': '/data/CellSeg_dataset/ATAS_processed/plant13_20hrs.h5',\n",
       "  'plant13_28hrs.h5': '/data/CellSeg_dataset/ATAS_processed/plant13_28hrs.h5',\n",
       "  'plant1_44hrs.h5': '/data/CellSeg_dataset/ATAS_processed/plant1_44hrs.h5',\n",
       "  'plant4_28hrs.h5': '/data/CellSeg_dataset/ATAS_processed/plant4_28hrs.h5',\n",
       "  'plant1_64hrs.h5': '/data/CellSeg_dataset/ATAS_processed/plant1_64hrs.h5',\n",
       "  'plant2_32hrs.h5': '/data/CellSeg_dataset/ATAS_processed/plant2_32hrs.h5',\n",
       "  'plant18_60hrs.h5': '/data/CellSeg_dataset/ATAS_processed/plant18_60hrs.h5',\n",
       "  'plant13_40hrs.h5': '/data/CellSeg_dataset/ATAS_processed/plant13_40hrs.h5',\n",
       "  'plant1_56hrs.h5': '/data/CellSeg_dataset/ATAS_processed/plant1_56hrs.h5',\n",
       "  'plant13_24hrs.h5': '/data/CellSeg_dataset/ATAS_processed/plant13_24hrs.h5',\n",
       "  'plant18_84hrs.h5': '/data/CellSeg_dataset/ATAS_processed/plant18_84hrs.h5',\n",
       "  'plant1_40hrs.h5': '/data/CellSeg_dataset/ATAS_processed/plant1_40hrs.h5',\n",
       "  'plant1_52hrs.h5': '/data/CellSeg_dataset/ATAS_processed/plant1_52hrs.h5',\n",
       "  'plant18_0hrs.h5': '/data/CellSeg_dataset/ATAS_processed/plant18_0hrs.h5',\n",
       "  'plant1_4hrs.h5': '/data/CellSeg_dataset/ATAS_processed/plant1_4hrs.h5',\n",
       "  'plant18_48hrs.h5': '/data/CellSeg_dataset/ATAS_processed/plant18_48hrs.h5',\n",
       "  'plant4_20hrs.h5': '/data/CellSeg_dataset/ATAS_processed/plant4_20hrs.h5',\n",
       "  'plant1_36hrs.h5': '/data/CellSeg_dataset/ATAS_processed/plant1_36hrs.h5',\n",
       "  'plant2_48hrs.h5': '/data/CellSeg_dataset/ATAS_processed/plant2_48hrs.h5',\n",
       "  'plant18_64hrs.h5': '/data/CellSeg_dataset/ATAS_processed/plant18_64hrs.h5',\n",
       "  'plant18_68hrs.h5': '/data/CellSeg_dataset/ATAS_processed/plant18_68hrs.h5',\n",
       "  'plant1_20hrs.h5': '/data/CellSeg_dataset/ATAS_processed/plant1_20hrs.h5',\n",
       "  'plant18_4hrs.h5': '/data/CellSeg_dataset/ATAS_processed/plant18_4hrs.h5',\n",
       "  'plant2_12hrs.h5': '/data/CellSeg_dataset/ATAS_processed/plant2_12hrs.h5',\n",
       "  'plant13_84hrs.h5': '/data/CellSeg_dataset/ATAS_processed/plant13_84hrs.h5',\n",
       "  'plant2_0hrs.h5': '/data/CellSeg_dataset/ATAS_processed/plant2_0hrs.h5',\n",
       "  'plant1_24hrs.h5': '/data/CellSeg_dataset/ATAS_processed/plant1_24hrs.h5',\n",
       "  'plant13_72hrs.h5': '/data/CellSeg_dataset/ATAS_processed/plant13_72hrs.h5',\n",
       "  'plant2_64hrs.h5': '/data/CellSeg_dataset/ATAS_processed/plant2_64hrs.h5',\n",
       "  'plant13_56hrs.h5': '/data/CellSeg_dataset/ATAS_processed/plant13_56hrs.h5',\n",
       "  'plant13_44hrs.h5': '/data/CellSeg_dataset/ATAS_processed/plant13_44hrs.h5',\n",
       "  'plant1_60hrs.h5': '/data/CellSeg_dataset/ATAS_processed/plant1_60hrs.h5',\n",
       "  'plant13_0hrs.h5': '/data/CellSeg_dataset/ATAS_processed/plant13_0hrs.h5',\n",
       "  'plant18_8hrs.h5': '/data/CellSeg_dataset/ATAS_processed/plant18_8hrs.h5',\n",
       "  'plant18_56hrs.h5': '/data/CellSeg_dataset/ATAS_processed/plant18_56hrs.h5',\n",
       "  'plant2_4hrs.h5': '/data/CellSeg_dataset/ATAS_processed/plant2_4hrs.h5',\n",
       "  'plant13_64hrs.h5': '/data/CellSeg_dataset/ATAS_processed/plant13_64hrs.h5',\n",
       "  'plant18_20hrs.h5': '/data/CellSeg_dataset/ATAS_processed/plant18_20hrs.h5',\n",
       "  'plant1_72hrs.h5': '/data/CellSeg_dataset/ATAS_processed/plant1_72hrs.h5'},\n",
       " 'test': {'plant15_72hrs.h5': '/data/CellSeg_dataset/ATAS_processed/plant15_72hrs.h5',\n",
       "  'plant15_0hrs.h5': '/data/CellSeg_dataset/ATAS_processed/plant15_0hrs.h5',\n",
       "  'plant15_68hrs.h5': '/data/CellSeg_dataset/ATAS_processed/plant15_68hrs.h5',\n",
       "  'plant15_28hrs.h5': '/data/CellSeg_dataset/ATAS_processed/plant15_28hrs.h5',\n",
       "  'plant15_64hrs.h5': '/data/CellSeg_dataset/ATAS_processed/plant15_64hrs.h5',\n",
       "  'plant15_44hrs.h5': '/data/CellSeg_dataset/ATAS_processed/plant15_44hrs.h5',\n",
       "  'plant15_80hrs.h5': '/data/CellSeg_dataset/ATAS_processed/plant15_80hrs.h5',\n",
       "  'plant15_56hrs.h5': '/data/CellSeg_dataset/ATAS_processed/plant15_56hrs.h5',\n",
       "  'plant15_84hrs.h5': '/data/CellSeg_dataset/ATAS_processed/plant15_84hrs.h5',\n",
       "  'plant15_12hrs.h5': '/data/CellSeg_dataset/ATAS_processed/plant15_12hrs.h5',\n",
       "  'plant15_76hrs.h5': '/data/CellSeg_dataset/ATAS_processed/plant15_76hrs.h5',\n",
       "  'plant15_32hrs.h5': '/data/CellSeg_dataset/ATAS_processed/plant15_32hrs.h5',\n",
       "  'plant15_20hrs.h5': '/data/CellSeg_dataset/ATAS_processed/plant15_20hrs.h5',\n",
       "  'plant15_48hrs.h5': '/data/CellSeg_dataset/ATAS_processed/plant15_48hrs.h5',\n",
       "  'plant15_24hrs.h5': '/data/CellSeg_dataset/ATAS_processed/plant15_24hrs.h5',\n",
       "  'plant15_4hrs.h5': '/data/CellSeg_dataset/ATAS_processed/plant15_4hrs.h5',\n",
       "  'plant15_16hrs.h5': '/data/CellSeg_dataset/ATAS_processed/plant15_16hrs.h5',\n",
       "  'plant15_36hrs.h5': '/data/CellSeg_dataset/ATAS_processed/plant15_36hrs.h5',\n",
       "  'plant15_60hrs.h5': '/data/CellSeg_dataset/ATAS_processed/plant15_60hrs.h5',\n",
       "  'plant15_8hrs.h5': '/data/CellSeg_dataset/ATAS_processed/plant15_8hrs.h5',\n",
       "  'plant15_52hrs.h5': '/data/CellSeg_dataset/ATAS_processed/plant15_52hrs.h5',\n",
       "  'plant15_40hrs.h5': '/data/CellSeg_dataset/ATAS_processed/plant15_40hrs.h5'}}"
      ]
     },
     "execution_count": 12,
     "metadata": {},
     "output_type": "execute_result"
    }
   ],
   "source": [
    "ATAS_data_dict"
   ]
  },
  {
   "cell_type": "markdown",
   "id": "db69fd78",
   "metadata": {},
   "source": [
    "### LRP"
   ]
  },
  {
   "cell_type": "code",
   "execution_count": 13,
   "id": "7dbeb97b",
   "metadata": {},
   "outputs": [],
   "source": [
    "source_file_path = \"/data/CellSeg_dataset/LateralRootPrimordia\"\n",
    "output_file_path = \"/data/CellSeg_dataset/LateralRootPrimordia_processed_wide_boundary\"\n",
    "output_file_path_II = \"/data/CellSeg_dataset/LateralRootPrimordia_pre_croped\""
   ]
  },
  {
   "cell_type": "code",
   "execution_count": 14,
   "id": "4fb1020b",
   "metadata": {},
   "outputs": [],
   "source": [
    "# # step 1\n",
    "# run_py_script = \"python prepare_dataset/prepare_LateralRootPrimordia_dataset.py \"+\\\n",
    "# \"--source_file_path \"+source_file_path+\" \"+\\\n",
    "# \"--output_file_path \"+output_file_path+\" \"+\\\n",
    "# \"--img_size_scale_factor 0.5 \"+\\\n",
    "# \"--width_of_membrane 2.5\"\n",
    "# print(\"run \"+run_py_script)\n",
    "# os.system(run_py_script)\n",
    "\n",
    "# # # or you can precrop the dataset\n",
    "# # # run_py_script = \"python prepare_dataset/pre_crop_LateralRootPrimordia.py \"+\\\n",
    "# # # \"--source_file_path \"+source_file_path+\" \"+\\\n",
    "# # # \"--output_file_path \"+output_file_path_II\n",
    "# # # print(\"run \"+run_py_script)\n",
    "# # # os.system(run_py_script)"
   ]
  },
  {
   "cell_type": "code",
   "execution_count": 15,
   "id": "3fd34ae2",
   "metadata": {},
   "outputs": [
    {
     "name": "stdout",
     "output_type": "stream",
     "text": [
      "run python prepare_dataset/get_the_dataset_info_of_LateralRootPrimordia.py --path /data/CellSeg_dataset/LateralRootPrimordia_processed_wide_boundary\n",
      "['/home/v-andongwang/Projects/CellSeg_github/prepare_dataset', '/home/v-andongwang/anaconda3/envs/clip/lib/python38.zip', '/home/v-andongwang/anaconda3/envs/clip/lib/python3.8', '/home/v-andongwang/anaconda3/envs/clip/lib/python3.8/lib-dynload', '/home/v-andongwang/anaconda3/envs/clip/lib/python3.8/site-packages', '/home/v-andongwang/anaconda3/envs/clip/lib/python3.8/site-packages/wheel-0.37.1-py3.8.egg', '/home/v-andongwang/Projects/Learning/Dassl.pytorch', '/home/v-andongwang/anaconda3/envs/clip/lib/python3.8/site-packages/locket-0.2.1-py3.8.egg', '/home/v-andongwang/Projects/CellSeg_github']\n",
      "{'train': {'Movie1_t00014_crop_gt.h5': '/data/CellSeg_dataset/LateralRootPrimordia_processed_wide_boundary/train/Movie1_t00014_crop_gt.h5', 'Movie3_T00004_crop_gt.h5': '/data/CellSeg_dataset/LateralRootPrimordia_processed_wide_boundary/train/Movie3_T00004_crop_gt.h5', 'Movie2_T00010_crop_gt.h5': '/data/CellSeg_dataset/LateralRootPrimordia_processed_wide_boundary/train/Movie2_T00010_crop_gt.h5', 'Movie1_t00012_crop_gt.h5': '/data/CellSeg_dataset/LateralRootPrimordia_processed_wide_boundary/train/Movie1_t00012_crop_gt.h5', 'Movie2_T00016_crop_gt.h5': '/data/CellSeg_dataset/LateralRootPrimordia_processed_wide_boundary/train/Movie2_T00016_crop_gt.h5', 'Movie1_t00045_crop_gt.h5': '/data/CellSeg_dataset/LateralRootPrimordia_processed_wide_boundary/train/Movie1_t00045_crop_gt.h5', 'Movie2_T00012_crop_gt.h5': '/data/CellSeg_dataset/LateralRootPrimordia_processed_wide_boundary/train/Movie2_T00012_crop_gt.h5', 'Movie1_t00003_crop_gt.h5': '/data/CellSeg_dataset/LateralRootPrimordia_processed_wide_boundary/train/Movie1_t00003_crop_gt.h5', 'Movie1_t00010_crop_gt.h5': '/data/CellSeg_dataset/LateralRootPrimordia_processed_wide_boundary/train/Movie1_t00010_crop_gt.h5', 'Movie3_T00002_crop_gt.h5': '/data/CellSeg_dataset/LateralRootPrimordia_processed_wide_boundary/train/Movie3_T00002_crop_gt.h5', 'Movie1_t00009_crop_gt.h5': '/data/CellSeg_dataset/LateralRootPrimordia_processed_wide_boundary/train/Movie1_t00009_crop_gt.h5', 'Movie1_t00016_crop_gt.h5': '/data/CellSeg_dataset/LateralRootPrimordia_processed_wide_boundary/train/Movie1_t00016_crop_gt.h5', 'Movie2_T00014_crop_gt.h5': '/data/CellSeg_dataset/LateralRootPrimordia_processed_wide_boundary/train/Movie2_T00014_crop_gt.h5', 'Movie1_t00040_crop_gt.h5': '/data/CellSeg_dataset/LateralRootPrimordia_processed_wide_boundary/train/Movie1_t00040_crop_gt.h5', 'Movie1_t00049_crop_gt.h5': '/data/CellSeg_dataset/LateralRootPrimordia_processed_wide_boundary/train/Movie1_t00049_crop_gt.h5', 'Movie2_T00002_crop_gt.h5': '/data/CellSeg_dataset/LateralRootPrimordia_processed_wide_boundary/train/Movie2_T00002_crop_gt.h5', 'Movie2_T00006_crop_gt.h5': '/data/CellSeg_dataset/LateralRootPrimordia_processed_wide_boundary/train/Movie2_T00006_crop_gt.h5', 'Movie1_t00018_crop_gt.h5': '/data/CellSeg_dataset/LateralRootPrimordia_processed_wide_boundary/train/Movie1_t00018_crop_gt.h5', 'Movie1_t00035_crop_gt.h5': '/data/CellSeg_dataset/LateralRootPrimordia_processed_wide_boundary/train/Movie1_t00035_crop_gt.h5', 'Movie1_t00020_crop_gt.h5': '/data/CellSeg_dataset/LateralRootPrimordia_processed_wide_boundary/train/Movie1_t00020_crop_gt.h5', 'Movie2_T00000_crop_gt.h5': '/data/CellSeg_dataset/LateralRootPrimordia_processed_wide_boundary/train/Movie2_T00000_crop_gt.h5', 'Movie2_T00008_crop_gt.h5': '/data/CellSeg_dataset/LateralRootPrimordia_processed_wide_boundary/train/Movie2_T00008_crop_gt.h5', 'Movie1_t00030_crop_gt.h5': '/data/CellSeg_dataset/LateralRootPrimordia_processed_wide_boundary/val/Movie1_t00030_crop_gt.h5', 'Movie1_t00004_crop_gt.h5': '/data/CellSeg_dataset/LateralRootPrimordia_processed_wide_boundary/val/Movie1_t00004_crop_gt.h5'}, 'test': {'Movie2_T00010_crop_gt.h5': '/data/CellSeg_dataset/LateralRootPrimordia_processed_wide_boundary/test/Movie2_T00010_crop_gt.h5', 'Movie1_t00045_crop_gt.h5': '/data/CellSeg_dataset/LateralRootPrimordia_processed_wide_boundary/test/Movie1_t00045_crop_gt.h5', 'Movie1_t00006_crop_gt.h5': '/data/CellSeg_dataset/LateralRootPrimordia_processed_wide_boundary/test/Movie1_t00006_crop_gt.h5', 'Movie2_T00020_crop_gt.h5': '/data/CellSeg_dataset/LateralRootPrimordia_processed_wide_boundary/test/Movie2_T00020_crop_gt.h5'}}\n"
     ]
    },
    {
     "data": {
      "text/plain": [
       "0"
      ]
     },
     "execution_count": 15,
     "metadata": {},
     "output_type": "execute_result"
    }
   ],
   "source": [
    "# step 2\n",
    "run_py_script = \"python prepare_dataset/get_the_dataset_info_of_LateralRootPrimordia.py \"+\\\n",
    "\"--path \"+output_file_path\n",
    "print(\"run \"+run_py_script)\n",
    "os.system(run_py_script)"
   ]
  },
  {
   "cell_type": "code",
   "execution_count": 16,
   "id": "6b62f4bd",
   "metadata": {},
   "outputs": [],
   "source": [
    "LRP_data_dict = load_obj(\"dataset_info/LRP_dataset_info\")"
   ]
  },
  {
   "cell_type": "code",
   "execution_count": 17,
   "id": "e6777b3e",
   "metadata": {
    "scrolled": true
   },
   "outputs": [
    {
     "data": {
      "text/plain": [
       "{'train': {'Movie1_t00014_crop_gt.h5': '/data/CellSeg_dataset/LateralRootPrimordia_processed_wide_boundary/train/Movie1_t00014_crop_gt.h5',\n",
       "  'Movie3_T00004_crop_gt.h5': '/data/CellSeg_dataset/LateralRootPrimordia_processed_wide_boundary/train/Movie3_T00004_crop_gt.h5',\n",
       "  'Movie2_T00010_crop_gt.h5': '/data/CellSeg_dataset/LateralRootPrimordia_processed_wide_boundary/train/Movie2_T00010_crop_gt.h5',\n",
       "  'Movie1_t00012_crop_gt.h5': '/data/CellSeg_dataset/LateralRootPrimordia_processed_wide_boundary/train/Movie1_t00012_crop_gt.h5',\n",
       "  'Movie2_T00016_crop_gt.h5': '/data/CellSeg_dataset/LateralRootPrimordia_processed_wide_boundary/train/Movie2_T00016_crop_gt.h5',\n",
       "  'Movie1_t00045_crop_gt.h5': '/data/CellSeg_dataset/LateralRootPrimordia_processed_wide_boundary/train/Movie1_t00045_crop_gt.h5',\n",
       "  'Movie2_T00012_crop_gt.h5': '/data/CellSeg_dataset/LateralRootPrimordia_processed_wide_boundary/train/Movie2_T00012_crop_gt.h5',\n",
       "  'Movie1_t00003_crop_gt.h5': '/data/CellSeg_dataset/LateralRootPrimordia_processed_wide_boundary/train/Movie1_t00003_crop_gt.h5',\n",
       "  'Movie1_t00010_crop_gt.h5': '/data/CellSeg_dataset/LateralRootPrimordia_processed_wide_boundary/train/Movie1_t00010_crop_gt.h5',\n",
       "  'Movie3_T00002_crop_gt.h5': '/data/CellSeg_dataset/LateralRootPrimordia_processed_wide_boundary/train/Movie3_T00002_crop_gt.h5',\n",
       "  'Movie1_t00009_crop_gt.h5': '/data/CellSeg_dataset/LateralRootPrimordia_processed_wide_boundary/train/Movie1_t00009_crop_gt.h5',\n",
       "  'Movie1_t00016_crop_gt.h5': '/data/CellSeg_dataset/LateralRootPrimordia_processed_wide_boundary/train/Movie1_t00016_crop_gt.h5',\n",
       "  'Movie2_T00014_crop_gt.h5': '/data/CellSeg_dataset/LateralRootPrimordia_processed_wide_boundary/train/Movie2_T00014_crop_gt.h5',\n",
       "  'Movie1_t00040_crop_gt.h5': '/data/CellSeg_dataset/LateralRootPrimordia_processed_wide_boundary/train/Movie1_t00040_crop_gt.h5',\n",
       "  'Movie1_t00049_crop_gt.h5': '/data/CellSeg_dataset/LateralRootPrimordia_processed_wide_boundary/train/Movie1_t00049_crop_gt.h5',\n",
       "  'Movie2_T00002_crop_gt.h5': '/data/CellSeg_dataset/LateralRootPrimordia_processed_wide_boundary/train/Movie2_T00002_crop_gt.h5',\n",
       "  'Movie2_T00006_crop_gt.h5': '/data/CellSeg_dataset/LateralRootPrimordia_processed_wide_boundary/train/Movie2_T00006_crop_gt.h5',\n",
       "  'Movie1_t00018_crop_gt.h5': '/data/CellSeg_dataset/LateralRootPrimordia_processed_wide_boundary/train/Movie1_t00018_crop_gt.h5',\n",
       "  'Movie1_t00035_crop_gt.h5': '/data/CellSeg_dataset/LateralRootPrimordia_processed_wide_boundary/train/Movie1_t00035_crop_gt.h5',\n",
       "  'Movie1_t00020_crop_gt.h5': '/data/CellSeg_dataset/LateralRootPrimordia_processed_wide_boundary/train/Movie1_t00020_crop_gt.h5',\n",
       "  'Movie2_T00000_crop_gt.h5': '/data/CellSeg_dataset/LateralRootPrimordia_processed_wide_boundary/train/Movie2_T00000_crop_gt.h5',\n",
       "  'Movie2_T00008_crop_gt.h5': '/data/CellSeg_dataset/LateralRootPrimordia_processed_wide_boundary/train/Movie2_T00008_crop_gt.h5',\n",
       "  'Movie1_t00030_crop_gt.h5': '/data/CellSeg_dataset/LateralRootPrimordia_processed_wide_boundary/val/Movie1_t00030_crop_gt.h5',\n",
       "  'Movie1_t00004_crop_gt.h5': '/data/CellSeg_dataset/LateralRootPrimordia_processed_wide_boundary/val/Movie1_t00004_crop_gt.h5'},\n",
       " 'test': {'Movie2_T00010_crop_gt.h5': '/data/CellSeg_dataset/LateralRootPrimordia_processed_wide_boundary/test/Movie2_T00010_crop_gt.h5',\n",
       "  'Movie1_t00045_crop_gt.h5': '/data/CellSeg_dataset/LateralRootPrimordia_processed_wide_boundary/test/Movie1_t00045_crop_gt.h5',\n",
       "  'Movie1_t00006_crop_gt.h5': '/data/CellSeg_dataset/LateralRootPrimordia_processed_wide_boundary/test/Movie1_t00006_crop_gt.h5',\n",
       "  'Movie2_T00020_crop_gt.h5': '/data/CellSeg_dataset/LateralRootPrimordia_processed_wide_boundary/test/Movie2_T00020_crop_gt.h5'}}"
      ]
     },
     "execution_count": 17,
     "metadata": {},
     "output_type": "execute_result"
    }
   ],
   "source": [
    "LRP_data_dict"
   ]
  },
  {
   "cell_type": "markdown",
   "id": "4bba7a20",
   "metadata": {},
   "source": [
    "### Ovules"
   ]
  },
  {
   "cell_type": "code",
   "execution_count": 18,
   "id": "1819a317",
   "metadata": {},
   "outputs": [],
   "source": [
    "source_file_path = \"/data/CellSeg_dataset/Ovules\"\n",
    "output_file_path = \"/data/CellSeg_dataset/Ovules_processed_thin_boundary\""
   ]
  },
  {
   "cell_type": "code",
   "execution_count": 19,
   "id": "d1d26d0c",
   "metadata": {},
   "outputs": [],
   "source": [
    "# # step 1\n",
    "# run_py_script = \"python prepare_dataset/prepare_Ovules_dataset.py \"+\\\n",
    "# \"--source_file_path \"+source_file_path+\" \"+\\\n",
    "# \"--output_file_path \"+output_file_path+\" \"+\\\n",
    "# \"--img_size_scale_factor 0.5 \"+\\\n",
    "# \"--width_of_membrane 1\"\n",
    "# print(\"run \"+run_py_script)\n",
    "# os.system(run_py_script)"
   ]
  },
  {
   "cell_type": "code",
   "execution_count": 20,
   "id": "1f6239dc",
   "metadata": {},
   "outputs": [
    {
     "name": "stdout",
     "output_type": "stream",
     "text": [
      "run python prepare_dataset/get_the_dataset_info_of_Ovules.py --path /data/CellSeg_dataset/Ovules_processed_thin_boundary\n",
      "['/home/v-andongwang/Projects/CellSeg_github/prepare_dataset', '/home/v-andongwang/anaconda3/envs/clip/lib/python38.zip', '/home/v-andongwang/anaconda3/envs/clip/lib/python3.8', '/home/v-andongwang/anaconda3/envs/clip/lib/python3.8/lib-dynload', '/home/v-andongwang/anaconda3/envs/clip/lib/python3.8/site-packages', '/home/v-andongwang/anaconda3/envs/clip/lib/python3.8/site-packages/wheel-0.37.1-py3.8.egg', '/home/v-andongwang/Projects/Learning/Dassl.pytorch', '/home/v-andongwang/anaconda3/envs/clip/lib/python3.8/site-packages/locket-0.2.1-py3.8.egg', '/home/v-andongwang/Projects/CellSeg_github']\n",
      "{'train': {'N_404_ds2x.npz': '/data/CellSeg_dataset/Ovules_processed_thin_boundary/train/N_404_ds2x.npz', 'N_422_ds2x.npz': '/data/CellSeg_dataset/Ovules_processed_thin_boundary/train/N_422_ds2x.npz', 'N_509_ds2x.npz': '/data/CellSeg_dataset/Ovules_processed_thin_boundary/train/N_509_ds2x.npz', 'N_454_ds2x.npz': '/data/CellSeg_dataset/Ovules_processed_thin_boundary/train/N_454_ds2x.npz', 'N_405_B_ds2x.npz': '/data/CellSeg_dataset/Ovules_processed_thin_boundary/train/N_405_B_ds2x.npz', 'N_536_ds2x.npz': '/data/CellSeg_dataset/Ovules_processed_thin_boundary/train/N_536_ds2x.npz', 'N_512_ds2x.npz': '/data/CellSeg_dataset/Ovules_processed_thin_boundary/train/N_512_ds2x.npz', 'N_449_ds2x.npz': '/data/CellSeg_dataset/Ovules_processed_thin_boundary/train/N_449_ds2x.npz', 'N_405_A_ds2x.npz': '/data/CellSeg_dataset/Ovules_processed_thin_boundary/train/N_405_A_ds2x.npz', 'N_451_ds2x.npz': '/data/CellSeg_dataset/Ovules_processed_thin_boundary/train/N_451_ds2x.npz', 'N_534_ds2x.npz': '/data/CellSeg_dataset/Ovules_processed_thin_boundary/train/N_534_ds2x.npz', 'N_517_ds2x.npz': '/data/CellSeg_dataset/Ovules_processed_thin_boundary/train/N_517_ds2x.npz', 'N_445_ds2x.npz': '/data/CellSeg_dataset/Ovules_processed_thin_boundary/train/N_445_ds2x.npz', 'N_428_ds2x.npz': '/data/CellSeg_dataset/Ovules_processed_thin_boundary/train/N_428_ds2x.npz', 'N_440_ds2x.npz': '/data/CellSeg_dataset/Ovules_processed_thin_boundary/train/N_440_ds2x.npz', 'N_487_ds2x.npz': '/data/CellSeg_dataset/Ovules_processed_thin_boundary/train/N_487_ds2x.npz', 'N_457_ds2x.npz': '/data/CellSeg_dataset/Ovules_processed_thin_boundary/train/N_457_ds2x.npz', 'N_425_ds2x.npz': '/data/CellSeg_dataset/Ovules_processed_thin_boundary/train/N_425_ds2x.npz', 'N_535_ds2x.npz': '/data/CellSeg_dataset/Ovules_processed_thin_boundary/train/N_535_ds2x.npz', 'N_458_ds2x.npz': '/data/CellSeg_dataset/Ovules_processed_thin_boundary/train/N_458_ds2x.npz', 'N_450_ds2x.npz': '/data/CellSeg_dataset/Ovules_processed_thin_boundary/train/N_450_ds2x.npz', 'N_416_ds2x.npz': '/data/CellSeg_dataset/Ovules_processed_thin_boundary/train/N_416_ds2x.npz', 'N_464_ds2x.npz': '/data/CellSeg_dataset/Ovules_processed_thin_boundary/val/N_464_ds2x.npz', 'N_420_ds2x.npz': '/data/CellSeg_dataset/Ovules_processed_thin_boundary/val/N_420_ds2x.npz'}, 'test': {'N_441_final_crop_ds2.npz': '/data/CellSeg_dataset/Ovules_processed_thin_boundary/test/N_441_final_crop_ds2.npz', 'N_590_final_crop_ds2.npz': '/data/CellSeg_dataset/Ovules_processed_thin_boundary/test/N_590_final_crop_ds2.npz', 'N_294_final_crop_ds2.npz': '/data/CellSeg_dataset/Ovules_processed_thin_boundary/test/N_294_final_crop_ds2.npz', 'N_593_final_crop_ds2.npz': '/data/CellSeg_dataset/Ovules_processed_thin_boundary/test/N_593_final_crop_ds2.npz', 'N_435_final_crop_ds2.npz': '/data/CellSeg_dataset/Ovules_processed_thin_boundary/test/N_435_final_crop_ds2.npz', 'N_511_final_crop_ds2.npz': '/data/CellSeg_dataset/Ovules_processed_thin_boundary/test/N_511_final_crop_ds2.npz', 'N_522_final_crop_ds2.npz': '/data/CellSeg_dataset/Ovules_processed_thin_boundary/test/N_522_final_crop_ds2.npz'}}\n"
     ]
    },
    {
     "data": {
      "text/plain": [
       "0"
      ]
     },
     "execution_count": 20,
     "metadata": {},
     "output_type": "execute_result"
    }
   ],
   "source": [
    "# step 2\n",
    "run_py_script = \"python prepare_dataset/get_the_dataset_info_of_Ovules.py \"+\\\n",
    "\"--path \"+output_file_path\n",
    "print(\"run \"+run_py_script)\n",
    "os.system(run_py_script)"
   ]
  },
  {
   "cell_type": "code",
   "execution_count": 21,
   "id": "1bb54355",
   "metadata": {},
   "outputs": [],
   "source": [
    "Ovules_data_dict = load_obj(\"dataset_info/Ovules_dataset_info\")"
   ]
  },
  {
   "cell_type": "code",
   "execution_count": 22,
   "id": "0194e7c3",
   "metadata": {},
   "outputs": [
    {
     "data": {
      "text/plain": [
       "{'train': {'N_404_ds2x.npz': '/data/CellSeg_dataset/Ovules_processed_thin_boundary/train/N_404_ds2x.npz',\n",
       "  'N_422_ds2x.npz': '/data/CellSeg_dataset/Ovules_processed_thin_boundary/train/N_422_ds2x.npz',\n",
       "  'N_509_ds2x.npz': '/data/CellSeg_dataset/Ovules_processed_thin_boundary/train/N_509_ds2x.npz',\n",
       "  'N_454_ds2x.npz': '/data/CellSeg_dataset/Ovules_processed_thin_boundary/train/N_454_ds2x.npz',\n",
       "  'N_405_B_ds2x.npz': '/data/CellSeg_dataset/Ovules_processed_thin_boundary/train/N_405_B_ds2x.npz',\n",
       "  'N_536_ds2x.npz': '/data/CellSeg_dataset/Ovules_processed_thin_boundary/train/N_536_ds2x.npz',\n",
       "  'N_512_ds2x.npz': '/data/CellSeg_dataset/Ovules_processed_thin_boundary/train/N_512_ds2x.npz',\n",
       "  'N_449_ds2x.npz': '/data/CellSeg_dataset/Ovules_processed_thin_boundary/train/N_449_ds2x.npz',\n",
       "  'N_405_A_ds2x.npz': '/data/CellSeg_dataset/Ovules_processed_thin_boundary/train/N_405_A_ds2x.npz',\n",
       "  'N_451_ds2x.npz': '/data/CellSeg_dataset/Ovules_processed_thin_boundary/train/N_451_ds2x.npz',\n",
       "  'N_534_ds2x.npz': '/data/CellSeg_dataset/Ovules_processed_thin_boundary/train/N_534_ds2x.npz',\n",
       "  'N_517_ds2x.npz': '/data/CellSeg_dataset/Ovules_processed_thin_boundary/train/N_517_ds2x.npz',\n",
       "  'N_445_ds2x.npz': '/data/CellSeg_dataset/Ovules_processed_thin_boundary/train/N_445_ds2x.npz',\n",
       "  'N_428_ds2x.npz': '/data/CellSeg_dataset/Ovules_processed_thin_boundary/train/N_428_ds2x.npz',\n",
       "  'N_440_ds2x.npz': '/data/CellSeg_dataset/Ovules_processed_thin_boundary/train/N_440_ds2x.npz',\n",
       "  'N_487_ds2x.npz': '/data/CellSeg_dataset/Ovules_processed_thin_boundary/train/N_487_ds2x.npz',\n",
       "  'N_457_ds2x.npz': '/data/CellSeg_dataset/Ovules_processed_thin_boundary/train/N_457_ds2x.npz',\n",
       "  'N_425_ds2x.npz': '/data/CellSeg_dataset/Ovules_processed_thin_boundary/train/N_425_ds2x.npz',\n",
       "  'N_535_ds2x.npz': '/data/CellSeg_dataset/Ovules_processed_thin_boundary/train/N_535_ds2x.npz',\n",
       "  'N_458_ds2x.npz': '/data/CellSeg_dataset/Ovules_processed_thin_boundary/train/N_458_ds2x.npz',\n",
       "  'N_450_ds2x.npz': '/data/CellSeg_dataset/Ovules_processed_thin_boundary/train/N_450_ds2x.npz',\n",
       "  'N_416_ds2x.npz': '/data/CellSeg_dataset/Ovules_processed_thin_boundary/train/N_416_ds2x.npz',\n",
       "  'N_464_ds2x.npz': '/data/CellSeg_dataset/Ovules_processed_thin_boundary/val/N_464_ds2x.npz',\n",
       "  'N_420_ds2x.npz': '/data/CellSeg_dataset/Ovules_processed_thin_boundary/val/N_420_ds2x.npz'},\n",
       " 'test': {'N_441_final_crop_ds2.npz': '/data/CellSeg_dataset/Ovules_processed_thin_boundary/test/N_441_final_crop_ds2.npz',\n",
       "  'N_590_final_crop_ds2.npz': '/data/CellSeg_dataset/Ovules_processed_thin_boundary/test/N_590_final_crop_ds2.npz',\n",
       "  'N_294_final_crop_ds2.npz': '/data/CellSeg_dataset/Ovules_processed_thin_boundary/test/N_294_final_crop_ds2.npz',\n",
       "  'N_593_final_crop_ds2.npz': '/data/CellSeg_dataset/Ovules_processed_thin_boundary/test/N_593_final_crop_ds2.npz',\n",
       "  'N_435_final_crop_ds2.npz': '/data/CellSeg_dataset/Ovules_processed_thin_boundary/test/N_435_final_crop_ds2.npz',\n",
       "  'N_511_final_crop_ds2.npz': '/data/CellSeg_dataset/Ovules_processed_thin_boundary/test/N_511_final_crop_ds2.npz',\n",
       "  'N_522_final_crop_ds2.npz': '/data/CellSeg_dataset/Ovules_processed_thin_boundary/test/N_522_final_crop_ds2.npz'}}"
      ]
     },
     "execution_count": 22,
     "metadata": {},
     "output_type": "execute_result"
    }
   ],
   "source": [
    "Ovules_data_dict"
   ]
  },
  {
   "cell_type": "code",
   "execution_count": 6,
   "id": "148810a4",
   "metadata": {},
   "outputs": [
    {
     "name": "stdout",
     "output_type": "stream",
     "text": [
      "raw torch.Size([1, 39, 45, 61])\n",
      "background torch.Size([1, 39, 45, 61])\n",
      "boundary torch.Size([1, 39, 45, 61])\n",
      "foreground torch.Size([1, 39, 45, 61])\n",
      "weights_background torch.Size([1, 39, 45, 61])\n",
      "weights_boundary torch.Size([1, 39, 45, 61])\n",
      "weights_foreground torch.Size([1, 39, 45, 61])\n"
     ]
    },
    {
     "data": {
      "image/png": "[encoded data removed]",
      "text/plain": [
       "<Figure size 432x288 with 1 Axes>"
      ]
     },
     "metadata": {
      "needs_background": "light"
     },
     "output_type": "display_data"
    },
    {
     "data": {
      "image/png": "[encoded data removed]",
      "text/plain": [
       "<Figure size 432x288 with 1 Axes>"
      ]
     },
     "metadata": {
      "needs_background": "light"
     },
     "output_type": "display_data"
    },
    {
     "data": {
      "image/png": "[encoded data removed]",
      "text/plain": [
       "<Figure size 432x288 with 1 Axes>"
      ]
     },
     "metadata": {
      "needs_background": "light"
     },
     "output_type": "display_data"
    },
    {
     "data": {
      "image/png": "[encoded data removed]",
      "text/plain": [
       "<Figure size 432x288 with 1 Axes>"
      ]
     },
     "metadata": {
      "needs_background": "light"
     },
     "output_type": "display_data"
    },
    {
     "data": {
      "image/png": "[encoded data removed]",
      "text/plain": [
       "<Figure size 432x288 with 1 Axes>"
      ]
     },
     "metadata": {
      "needs_background": "light"
     },
     "output_type": "display_data"
    },
    {
     "data": {
      "image/png": "[encoded data removed]",
      "text/plain": [
       "<Figure size 432x288 with 1 Axes>"
      ]
     },
     "metadata": {
      "needs_background": "light"
     },
     "output_type": "display_data"
    },
    {
     "data": {
      "image/png": "[encoded data removed]",
      "text/plain": [
       "<Figure size 432x288 with 1 Axes>"
      ]
     },
     "metadata": {
      "needs_background": "light"
     },
     "output_type": "display_data"
    }
   ],
   "source": [
    "from func.load_dataset import Cell_Seg_3D_Dataset\n",
    "import pickle\n",
    "import matplotlib.pyplot as plt\n",
    "def load_obj(name):\n",
    "    with open(name + '.pkl', 'rb') as f:\n",
    "        return pickle.load(f)\n",
    "HMS_dataset_info = load_obj(\"dataset_info/HMS_dataset_info\")\n",
    "dataset = Cell_Seg_3D_Dataset(HMS_dataset_info['train'])\n",
    "idx = 0\n",
    "crop_size = dataset.set_random_crop_size()\n",
    "output = dataset.get(idx, file_format='.npy', crop_size = crop_size, \\\n",
    "    boundary_importance = 1, need_tensor_output = True, need_transform = True)\n",
    "for item in output.keys():\n",
    "    print(item, output[item].shape)\n",
    "    plt.figure()\n",
    "    plt.imshow(output[item][0,0])\n",
    "    plt.title(item)"
   ]
  }
 ],
 "metadata": {
  "kernelspec": {
   "display_name": "Python 3 (ipykernel)",
   "language": "python",
   "name": "python3"
  },
  "language_info": {
   "codemirror_mode": {
    "name": "ipython",
    "version": 3
   },
   "file_extension": ".py",
   "mimetype": "text/x-python",
   "name": "python",
   "nbconvert_exporter": "python",
   "pygments_lexer": "ipython3",
   "version": "3.8.12"
  }
 },
 "nbformat": 4,
 "nbformat_minor": 5
}
